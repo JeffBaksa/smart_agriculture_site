{
 "cells": [
  {
   "cell_type": "code",
   "execution_count": 1,
   "id": "ee69fca0-06bc-4b59-91ce-b439a6d6b18a",
   "metadata": {},
   "outputs": [],
   "source": [
    "import numpy as np\n",
    "import matplotlib.pyplot as plt\n",
    "plt.style.use('ggplot')\n",
    "import os\n",
    "import PIL\n",
    "from datetime import datetime\n",
    "from functools import partial\n",
    "import seaborn as sns\n",
    "\n",
    "import tensorflow as tf\n",
    "from tensorflow import keras\n",
    "from tensorflow.keras import layers\n",
    "from tensorflow.keras.preprocessing.image import ImageDataGenerator\n",
    "from tensorflow.keras import Sequential\n",
    "from tensorflow.keras.layers import Activation, Dense, Flatten, Dropout\n",
    "from tensorflow.keras.optimizers import SGD, Adam\n",
    "from tensorflow.keras.losses import BinaryCrossentropy\n",
    "from tensorflow.keras.callbacks import EarlyStopping, ModelCheckpoint, TensorBoard\n",
    "from tensorflow.keras import Model\n",
    "\n",
    "from skimage import io, color, filters\n",
    "from skimage.transform import resize, rotate\n",
    "from sklearn.metrics import confusion_matrix, accuracy_score, recall_score, precision_score, f1_score"
   ]
  },
  {
   "cell_type": "code",
   "execution_count": 8,
   "id": "4caa094e-6df3-4c93-9fdc-e2b5c1a4aaf8",
   "metadata": {},
   "outputs": [],
   "source": [
    "# Image data generator & flow from dir\n",
    "train_path = 'disease_data3/train'\n",
    "test_path = 'disease_data3/test'\n",
    "valid_path = 'disease_data3/valid'\n",
    "bs = 32"
   ]
  },
  {
   "cell_type": "code",
   "execution_count": 9,
   "id": "d5c62988-c219-4c38-9f51-4c3a94539c8b",
   "metadata": {},
   "outputs": [
    {
     "name": "stdout",
     "output_type": "stream",
     "text": [
      "Found 8747 images belonging to 10 classes.\n",
      "Found 1148 images belonging to 10 classes.\n",
      "Found 1208 images belonging to 10 classes.\n"
     ]
    }
   ],
   "source": [
    "train_batches = ImageDataGenerator(rescale=1/255, horizontal_flip=True, vertical_flip=True, shear_range=0.2, rotation_range=60).flow_from_directory(train_path, target_size=(224, 224), batch_size=bs)\n",
    "test_batches = ImageDataGenerator(rescale=1/255).flow_from_directory(test_path, target_size=(224, 224), batch_size=bs)\n",
    "valid_batches = ImageDataGenerator(rescale=1/255).flow_from_directory(valid_path, target_size=(224, 224), batch_size=bs)"
   ]
  },
  {
   "cell_type": "code",
   "execution_count": 11,
   "id": "f0350de7-08c4-4f5b-bfa7-d17d387e94c9",
   "metadata": {},
   "outputs": [],
   "source": [
    "def image_plot_predict(rows, batch, model, cols=bs):  \n",
    "    \"\"\" \n",
    "    Plots images with thier predicted class and actual class  \n",
    "  \n",
    "    Used after model has been fit to see results of test data\n",
    "  \n",
    "    Parameters: \n",
    "    rows (int): number of rows for the images displayed\n",
    "    batch (ImageDataGenerator): test batch of pictures that will be predicted in model\n",
    "    model : the model training images have been trained on to be used to predict test images\n",
    "    cols (int) : number of columns displayed ( set to batch size )\n",
    "    \n",
    "    \n",
    "    Returns: \n",
    "    plot: Plot of images with their predicted class and their actual class\n",
    "    \"\"\"\n",
    "    types = ['Apple - Apple Scab', 'Apple - Black Rot', 'Apple - Cedar Apple Rust', 'Apple - Healthy', 'Corn - Cercospora Leaf Spot', 'Corn - Common Rust', 'Corn - Northern Leaf Blight', 'Corn - Healthy', 'Grape - Black Rot', 'Grape - Healthy']\n",
    "    fig, axs = plt.subplots(rows,cols,figsize=(cols * 4,rows * 4))\n",
    "    for i in range(rows):\n",
    "        images, labels = next(batch)\n",
    "        predictions = model.predict(images)\n",
    "        for j, pic in enumerate(images):\n",
    "            title = 'Predicted: ' + types[list(predictions[j]).index(predictions[j].max())] + ' ' + '\\n' + 'Actual: ' + types[list(labels[j]).index(1)] + '\\n' + 'Confidence: ' + str(predictions[j].max().round(2))\n",
    "            if rows > 1:\n",
    "                axs[i,j].imshow(pic, extent=[0, 20, 0, 15], aspect=1)\n",
    "                axs[i,j].set_title(title)\n",
    "                axs[i,j].axis('off')\n",
    "                if types[list(predictions[j]).index(predictions[j].max())] != types[list(labels[j]).index(1)]:\n",
    "                    axs[i,j].set_title(title, color='red')\n",
    "            else:\n",
    "                axs[j].imshow(pic, extent=[0, 20, 0, 15], aspect=1)\n",
    "                axs[j].set_title(title)\n",
    "                axs[j].axis('off')\n",
    "                if types[list(predictions[j]).index(predictions[j].max())] != types[list(labels[j]).index(1)]:\n",
    "                    axs[i,j].set_title(title, color='red')\n",
    "    plt.tight_layout()\n",
    "    plt.show()"
   ]
  },
  {
   "cell_type": "code",
   "execution_count": 12,
   "id": "f6c8758a-676f-490c-a3e5-300c1307709b",
   "metadata": {},
   "outputs": [],
   "source": [
    "def con_fu(rows, test_batches, model):\n",
    "    \"\"\" \n",
    "    Collects data for confusion_matrix \n",
    "  \n",
    "    Used in conjunction with sklearn.metrics confusion_matrix function\n",
    "  \n",
    "    Parameters: \n",
    "    rows (int): number of pictures will be predicted on\n",
    "    test_batches (ImageDataGenerator) : the pictures that will be predicted\n",
    "    model : the model training images have been trained on to be used to predict test images\n",
    "    \n",
    "    \n",
    "    \n",
    "    Returns: \n",
    "    actual (list) : list of actual class per image\n",
    "    preds (list) : list of predicted class per image\n",
    "    miss_class (list) : list of images that were missclassified\n",
    "    \"\"\"\n",
    "    actual = []\n",
    "    preds = []\n",
    "    miss_class = []\n",
    "    miss_predictions = []\n",
    "    for i in range(rows):\n",
    "        images, labels = next(test_batches)\n",
    "        predictions = model.predict(images)\n",
    "        for j, h in enumerate(labels):\n",
    "            act_ = list(h).index(1.)\n",
    "            pred_ = list(predictions[j]).index(predictions[j].max())\n",
    "            actual.append(act_)\n",
    "            preds.append(pred_)\n",
    "        if act_ != pred_:\n",
    "            miss_class.append(images[j])\n",
    "            miss_predictions.append([act_, pred_])\n",
    "    return actual, preds, miss_class, miss_predictions"
   ]
  },
  {
   "cell_type": "code",
   "execution_count": 13,
   "id": "6e75b7bc-54d7-4728-80b5-b80109aedb29",
   "metadata": {},
   "outputs": [
    {
     "name": "stdout",
     "output_type": "stream",
     "text": [
      "Found 1148 images belonging to 10 classes.\n"
     ]
    }
   ],
   "source": [
    "# To Make image plots we need to read in images with a smaller batch size\n",
    "test_batches2 = ImageDataGenerator(rescale=1/255).flow_from_directory(test_path, target_size=(224, 224), batch_size=4)"
   ]
  },
  {
   "cell_type": "code",
   "execution_count": 15,
   "id": "feb7ef84-b713-4874-ac85-f3c3bdc0bd72",
   "metadata": {},
   "outputs": [
    {
     "ename": "NameError",
     "evalue": "name 'resn_model' is not defined",
     "output_type": "error",
     "traceback": [
      "\u001b[0;31m---------------------------------------------------------------------------\u001b[0m",
      "\u001b[0;31mNameError\u001b[0m                                 Traceback (most recent call last)",
      "\u001b[0;32m<ipython-input-15-9efa0f9ceae8>\u001b[0m in \u001b[0;36m<module>\u001b[0;34m\u001b[0m\n\u001b[1;32m      1\u001b[0m \u001b[0;31m# NEED TO SAVE THE MODEL FROM GOOGLE DRIVE\u001b[0m\u001b[0;34m\u001b[0m\u001b[0;34m\u001b[0m\u001b[0;34m\u001b[0m\u001b[0m\n\u001b[1;32m      2\u001b[0m \u001b[0;31m# Use helper function to plot correct/incorrect predictions\u001b[0m\u001b[0;34m\u001b[0m\u001b[0;34m\u001b[0m\u001b[0;34m\u001b[0m\u001b[0m\n\u001b[0;32m----> 3\u001b[0;31m \u001b[0mimage_plot_predict\u001b[0m\u001b[0;34m(\u001b[0m\u001b[0;36m4\u001b[0m\u001b[0;34m,\u001b[0m \u001b[0mtest_batches2\u001b[0m\u001b[0;34m,\u001b[0m \u001b[0mresn_model\u001b[0m\u001b[0;34m,\u001b[0m \u001b[0mcols\u001b[0m\u001b[0;34m=\u001b[0m\u001b[0;36m4\u001b[0m\u001b[0;34m)\u001b[0m\u001b[0;34m\u001b[0m\u001b[0;34m\u001b[0m\u001b[0m\n\u001b[0m",
      "\u001b[0;31mNameError\u001b[0m: name 'resn_model' is not defined"
     ]
    }
   ],
   "source": [
    "# NEED TO SAVE THE MODEL FROM GOOGLE DRIVE\n",
    "# Use helper function to plot correct/incorrect predictions\n",
    "image_plot_predict(4, test_batches2, resn_model, cols=4)"
   ]
  },
  {
   "cell_type": "code",
   "execution_count": null,
   "id": "8b069453-e3e5-4182-b32c-188c630f2fa0",
   "metadata": {},
   "outputs": [],
   "source": []
  }
 ],
 "metadata": {
  "kernelspec": {
   "display_name": "Python 3",
   "language": "python",
   "name": "python3"
  },
  "language_info": {
   "codemirror_mode": {
    "name": "ipython",
    "version": 3
   },
   "file_extension": ".py",
   "mimetype": "text/x-python",
   "name": "python",
   "nbconvert_exporter": "python",
   "pygments_lexer": "ipython3",
   "version": "3.8.8"
  }
 },
 "nbformat": 4,
 "nbformat_minor": 5
}
