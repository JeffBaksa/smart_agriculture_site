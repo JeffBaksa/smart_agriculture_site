{
 "cells": [
  {
   "cell_type": "code",
   "execution_count": 478,
   "id": "8a56552d-145b-41f9-ae2e-9b89ec274d75",
   "metadata": {},
   "outputs": [
    {
     "ename": "ImportError",
     "evalue": "cannot import name 'open_image' from 'PIL' (/Users/jeffreybaksa/opt/anaconda3/lib/python3.8/site-packages/PIL/__init__.py)",
     "output_type": "error",
     "traceback": [
      "\u001b[0;31m---------------------------------------------------------------------------\u001b[0m",
      "\u001b[0;31mImportError\u001b[0m                               Traceback (most recent call last)",
      "\u001b[0;32m<ipython-input-478-8948781858a6>\u001b[0m in \u001b[0;36m<module>\u001b[0;34m\u001b[0m\n\u001b[1;32m      5\u001b[0m \u001b[0;32mimport\u001b[0m \u001b[0mtensorflow\u001b[0m \u001b[0;32mas\u001b[0m \u001b[0mtf\u001b[0m\u001b[0;34m\u001b[0m\u001b[0;34m\u001b[0m\u001b[0m\n\u001b[1;32m      6\u001b[0m \u001b[0;32mimport\u001b[0m \u001b[0mpickle\u001b[0m\u001b[0;34m\u001b[0m\u001b[0;34m\u001b[0m\u001b[0m\n\u001b[0;32m----> 7\u001b[0;31m \u001b[0;32mfrom\u001b[0m \u001b[0mPIL\u001b[0m \u001b[0;32mimport\u001b[0m \u001b[0mopen_image\u001b[0m\u001b[0;34m\u001b[0m\u001b[0;34m\u001b[0m\u001b[0m\n\u001b[0m\u001b[1;32m      8\u001b[0m \u001b[0;31m# To ignore all warnings\u001b[0m\u001b[0;34m\u001b[0m\u001b[0;34m\u001b[0m\u001b[0;34m\u001b[0m\u001b[0m\n\u001b[1;32m      9\u001b[0m \u001b[0;31m# import warnings\u001b[0m\u001b[0;34m\u001b[0m\u001b[0;34m\u001b[0m\u001b[0;34m\u001b[0m\u001b[0m\n",
      "\u001b[0;31mImportError\u001b[0m: cannot import name 'open_image' from 'PIL' (/Users/jeffreybaksa/opt/anaconda3/lib/python3.8/site-packages/PIL/__init__.py)"
     ]
    }
   ],
   "source": [
    "import numpy as np\n",
    "import pandas as pd\n",
    "import matplotlib.pyplot as plt\n",
    "plt.style.use('ggplot')\n",
    "import tensorflow as tf\n",
    "import pickle\n",
    "from PIL import Image\n",
    "# To ignore all warnings\n",
    "# import warnings\n",
    "# warnings.filterwarnings('ignore')"
   ]
  },
  {
   "cell_type": "markdown",
   "id": "faef8436-b455-4b8b-9c71-c7752017c220",
   "metadata": {},
   "source": [
    "This dataset is crop info based in India. Any recommender that can be implement with this can be used with US data as well.\n",
    "\n",
    "* Link: [Dataset](https://www.kaggle.com/atharvaingle/crop-recommendation-dataset) "
   ]
  },
  {
   "cell_type": "code",
   "execution_count": 26,
   "id": "7bc8239e-f4a2-4976-8ef8-fc40b8d1854b",
   "metadata": {},
   "outputs": [],
   "source": [
    "crops = pd.read_csv('data/Crop_recommendation.csv')"
   ]
  },
  {
   "cell_type": "code",
   "execution_count": 309,
   "id": "12ac121f-a759-4f60-a6f5-baf1131747a1",
   "metadata": {},
   "outputs": [
    {
     "data": {
      "text/plain": [
       "numpy.float64"
      ]
     },
     "execution_count": 309,
     "metadata": {},
     "output_type": "execute_result"
    }
   ],
   "source": [
    "type(crops['rainfall'][0])"
   ]
  },
  {
   "cell_type": "code",
   "execution_count": 27,
   "id": "7c5a5db9-23d0-4139-b9d4-749a7b5a2f02",
   "metadata": {},
   "outputs": [
    {
     "name": "stdout",
     "output_type": "stream",
     "text": [
      "<class 'pandas.core.frame.DataFrame'>\n",
      "RangeIndex: 2200 entries, 0 to 2199\n",
      "Data columns (total 8 columns):\n",
      " #   Column       Non-Null Count  Dtype  \n",
      "---  ------       --------------  -----  \n",
      " 0   N            2200 non-null   int64  \n",
      " 1   P            2200 non-null   int64  \n",
      " 2   K            2200 non-null   int64  \n",
      " 3   temperature  2200 non-null   float64\n",
      " 4   humidity     2200 non-null   float64\n",
      " 5   ph           2200 non-null   float64\n",
      " 6   rainfall     2200 non-null   float64\n",
      " 7   label        2200 non-null   object \n",
      "dtypes: float64(4), int64(3), object(1)\n",
      "memory usage: 137.6+ KB\n"
     ]
    }
   ],
   "source": [
    "crops.info()"
   ]
  },
  {
   "cell_type": "code",
   "execution_count": 407,
   "id": "21f42e47-a3e1-473b-b848-614a9c314a36",
   "metadata": {},
   "outputs": [
    {
     "data": {
      "text/plain": [
       "N                      90\n",
       "P                      42\n",
       "K                      43\n",
       "temperature     20.879744\n",
       "humidity        82.002744\n",
       "ph               6.502985\n",
       "rainfall       202.935536\n",
       "label                rice\n",
       "Name: 0, dtype: object"
      ]
     },
     "execution_count": 407,
     "metadata": {},
     "output_type": "execute_result"
    }
   ],
   "source": [
    "crops.iloc[0]"
   ]
  },
  {
   "cell_type": "code",
   "execution_count": 28,
   "id": "67a62fda-01a9-4bff-902e-b0536650b53d",
   "metadata": {},
   "outputs": [
    {
     "data": {
      "text/html": [
       "<div>\n",
       "<style scoped>\n",
       "    .dataframe tbody tr th:only-of-type {\n",
       "        vertical-align: middle;\n",
       "    }\n",
       "\n",
       "    .dataframe tbody tr th {\n",
       "        vertical-align: top;\n",
       "    }\n",
       "\n",
       "    .dataframe thead th {\n",
       "        text-align: right;\n",
       "    }\n",
       "</style>\n",
       "<table border=\"1\" class=\"dataframe\">\n",
       "  <thead>\n",
       "    <tr style=\"text-align: right;\">\n",
       "      <th></th>\n",
       "      <th>N</th>\n",
       "      <th>P</th>\n",
       "      <th>K</th>\n",
       "      <th>temperature</th>\n",
       "      <th>humidity</th>\n",
       "      <th>ph</th>\n",
       "      <th>rainfall</th>\n",
       "    </tr>\n",
       "  </thead>\n",
       "  <tbody>\n",
       "    <tr>\n",
       "      <th>count</th>\n",
       "      <td>2200.000000</td>\n",
       "      <td>2200.000000</td>\n",
       "      <td>2200.000000</td>\n",
       "      <td>2200.000000</td>\n",
       "      <td>2200.000000</td>\n",
       "      <td>2200.000000</td>\n",
       "      <td>2200.000000</td>\n",
       "    </tr>\n",
       "    <tr>\n",
       "      <th>mean</th>\n",
       "      <td>50.551818</td>\n",
       "      <td>53.362727</td>\n",
       "      <td>48.149091</td>\n",
       "      <td>25.616244</td>\n",
       "      <td>71.481779</td>\n",
       "      <td>6.469480</td>\n",
       "      <td>103.463655</td>\n",
       "    </tr>\n",
       "    <tr>\n",
       "      <th>std</th>\n",
       "      <td>36.917334</td>\n",
       "      <td>32.985883</td>\n",
       "      <td>50.647931</td>\n",
       "      <td>5.063749</td>\n",
       "      <td>22.263812</td>\n",
       "      <td>0.773938</td>\n",
       "      <td>54.958389</td>\n",
       "    </tr>\n",
       "    <tr>\n",
       "      <th>min</th>\n",
       "      <td>0.000000</td>\n",
       "      <td>5.000000</td>\n",
       "      <td>5.000000</td>\n",
       "      <td>8.825675</td>\n",
       "      <td>14.258040</td>\n",
       "      <td>3.504752</td>\n",
       "      <td>20.211267</td>\n",
       "    </tr>\n",
       "    <tr>\n",
       "      <th>25%</th>\n",
       "      <td>21.000000</td>\n",
       "      <td>28.000000</td>\n",
       "      <td>20.000000</td>\n",
       "      <td>22.769375</td>\n",
       "      <td>60.261953</td>\n",
       "      <td>5.971693</td>\n",
       "      <td>64.551686</td>\n",
       "    </tr>\n",
       "    <tr>\n",
       "      <th>50%</th>\n",
       "      <td>37.000000</td>\n",
       "      <td>51.000000</td>\n",
       "      <td>32.000000</td>\n",
       "      <td>25.598693</td>\n",
       "      <td>80.473146</td>\n",
       "      <td>6.425045</td>\n",
       "      <td>94.867624</td>\n",
       "    </tr>\n",
       "    <tr>\n",
       "      <th>75%</th>\n",
       "      <td>84.250000</td>\n",
       "      <td>68.000000</td>\n",
       "      <td>49.000000</td>\n",
       "      <td>28.561654</td>\n",
       "      <td>89.948771</td>\n",
       "      <td>6.923643</td>\n",
       "      <td>124.267508</td>\n",
       "    </tr>\n",
       "    <tr>\n",
       "      <th>max</th>\n",
       "      <td>140.000000</td>\n",
       "      <td>145.000000</td>\n",
       "      <td>205.000000</td>\n",
       "      <td>43.675493</td>\n",
       "      <td>99.981876</td>\n",
       "      <td>9.935091</td>\n",
       "      <td>298.560117</td>\n",
       "    </tr>\n",
       "  </tbody>\n",
       "</table>\n",
       "</div>"
      ],
      "text/plain": [
       "                 N            P            K  temperature     humidity  \\\n",
       "count  2200.000000  2200.000000  2200.000000  2200.000000  2200.000000   \n",
       "mean     50.551818    53.362727    48.149091    25.616244    71.481779   \n",
       "std      36.917334    32.985883    50.647931     5.063749    22.263812   \n",
       "min       0.000000     5.000000     5.000000     8.825675    14.258040   \n",
       "25%      21.000000    28.000000    20.000000    22.769375    60.261953   \n",
       "50%      37.000000    51.000000    32.000000    25.598693    80.473146   \n",
       "75%      84.250000    68.000000    49.000000    28.561654    89.948771   \n",
       "max     140.000000   145.000000   205.000000    43.675493    99.981876   \n",
       "\n",
       "                ph     rainfall  \n",
       "count  2200.000000  2200.000000  \n",
       "mean      6.469480   103.463655  \n",
       "std       0.773938    54.958389  \n",
       "min       3.504752    20.211267  \n",
       "25%       5.971693    64.551686  \n",
       "50%       6.425045    94.867624  \n",
       "75%       6.923643   124.267508  \n",
       "max       9.935091   298.560117  "
      ]
     },
     "execution_count": 28,
     "metadata": {},
     "output_type": "execute_result"
    }
   ],
   "source": [
    "crops.describe()"
   ]
  },
  {
   "cell_type": "code",
   "execution_count": 29,
   "id": "eaf051f2-1040-435b-a26d-c0102189faa5",
   "metadata": {},
   "outputs": [
    {
     "data": {
      "text/html": [
       "<div>\n",
       "<style scoped>\n",
       "    .dataframe tbody tr th:only-of-type {\n",
       "        vertical-align: middle;\n",
       "    }\n",
       "\n",
       "    .dataframe tbody tr th {\n",
       "        vertical-align: top;\n",
       "    }\n",
       "\n",
       "    .dataframe thead th {\n",
       "        text-align: right;\n",
       "    }\n",
       "</style>\n",
       "<table border=\"1\" class=\"dataframe\">\n",
       "  <thead>\n",
       "    <tr style=\"text-align: right;\">\n",
       "      <th></th>\n",
       "      <th>N</th>\n",
       "      <th>P</th>\n",
       "      <th>K</th>\n",
       "      <th>temperature</th>\n",
       "      <th>humidity</th>\n",
       "      <th>ph</th>\n",
       "      <th>rainfall</th>\n",
       "      <th>label</th>\n",
       "    </tr>\n",
       "  </thead>\n",
       "  <tbody>\n",
       "    <tr>\n",
       "      <th>0</th>\n",
       "      <td>90</td>\n",
       "      <td>42</td>\n",
       "      <td>43</td>\n",
       "      <td>20.879744</td>\n",
       "      <td>82.002744</td>\n",
       "      <td>6.502985</td>\n",
       "      <td>202.935536</td>\n",
       "      <td>rice</td>\n",
       "    </tr>\n",
       "    <tr>\n",
       "      <th>1</th>\n",
       "      <td>85</td>\n",
       "      <td>58</td>\n",
       "      <td>41</td>\n",
       "      <td>21.770462</td>\n",
       "      <td>80.319644</td>\n",
       "      <td>7.038096</td>\n",
       "      <td>226.655537</td>\n",
       "      <td>rice</td>\n",
       "    </tr>\n",
       "    <tr>\n",
       "      <th>2</th>\n",
       "      <td>60</td>\n",
       "      <td>55</td>\n",
       "      <td>44</td>\n",
       "      <td>23.004459</td>\n",
       "      <td>82.320763</td>\n",
       "      <td>7.840207</td>\n",
       "      <td>263.964248</td>\n",
       "      <td>rice</td>\n",
       "    </tr>\n",
       "    <tr>\n",
       "      <th>3</th>\n",
       "      <td>74</td>\n",
       "      <td>35</td>\n",
       "      <td>40</td>\n",
       "      <td>26.491096</td>\n",
       "      <td>80.158363</td>\n",
       "      <td>6.980401</td>\n",
       "      <td>242.864034</td>\n",
       "      <td>rice</td>\n",
       "    </tr>\n",
       "    <tr>\n",
       "      <th>4</th>\n",
       "      <td>78</td>\n",
       "      <td>42</td>\n",
       "      <td>42</td>\n",
       "      <td>20.130175</td>\n",
       "      <td>81.604873</td>\n",
       "      <td>7.628473</td>\n",
       "      <td>262.717340</td>\n",
       "      <td>rice</td>\n",
       "    </tr>\n",
       "  </tbody>\n",
       "</table>\n",
       "</div>"
      ],
      "text/plain": [
       "    N   P   K  temperature   humidity        ph    rainfall label\n",
       "0  90  42  43    20.879744  82.002744  6.502985  202.935536  rice\n",
       "1  85  58  41    21.770462  80.319644  7.038096  226.655537  rice\n",
       "2  60  55  44    23.004459  82.320763  7.840207  263.964248  rice\n",
       "3  74  35  40    26.491096  80.158363  6.980401  242.864034  rice\n",
       "4  78  42  42    20.130175  81.604873  7.628473  262.717340  rice"
      ]
     },
     "execution_count": 29,
     "metadata": {},
     "output_type": "execute_result"
    }
   ],
   "source": [
    "crops.head()"
   ]
  },
  {
   "cell_type": "code",
   "execution_count": 30,
   "id": "4b76aff0-24c3-40fe-8086-86487b7e7213",
   "metadata": {},
   "outputs": [
    {
     "data": {
      "text/plain": [
       "array(['rice', 'maize', 'chickpea', 'kidneybeans', 'pigeonpeas',\n",
       "       'mothbeans', 'mungbean', 'blackgram', 'lentil', 'pomegranate',\n",
       "       'banana', 'mango', 'grapes', 'watermelon', 'muskmelon', 'apple',\n",
       "       'orange', 'papaya', 'coconut', 'cotton', 'jute', 'coffee'],\n",
       "      dtype=object)"
      ]
     },
     "execution_count": 30,
     "metadata": {},
     "output_type": "execute_result"
    }
   ],
   "source": [
    "crops['label'].unique()"
   ]
  },
  {
   "cell_type": "code",
   "execution_count": 31,
   "id": "61989ccc-460c-4d80-8616-595e2a5a51b7",
   "metadata": {},
   "outputs": [],
   "source": [
    "labels = ['rice', 'maize', 'chickpea', 'kidneybeans', 'pigeonpeas',\n",
    "       'mothbeans', 'mungbean', 'blackgram', 'lentil', 'pomegranate',\n",
    "       'banana', 'mango', 'grapes', 'watermelon', 'muskmelon', 'apple',\n",
    "       'orange', 'papaya', 'coconut', 'cotton', 'jute', 'coffee']"
   ]
  },
  {
   "cell_type": "code",
   "execution_count": 45,
   "id": "f4f9728a-7fba-41aa-b8c6-9504d49cab0e",
   "metadata": {},
   "outputs": [
    {
     "data": {
      "text/plain": [
       "Index(['N', 'P', 'K', 'temperature', 'humidity', 'ph', 'rainfall', 'label'], dtype='object')"
      ]
     },
     "execution_count": 45,
     "metadata": {},
     "output_type": "execute_result"
    }
   ],
   "source": [
    "crops.columns"
   ]
  },
  {
   "cell_type": "markdown",
   "id": "0049d06b-0656-49fd-bb63-680642c1b395",
   "metadata": {},
   "source": [
    "## Rice"
   ]
  },
  {
   "cell_type": "code",
   "execution_count": 32,
   "id": "874befcb-eac0-464d-bc7d-1dc75fdbcd97",
   "metadata": {},
   "outputs": [
    {
     "data": {
      "text/plain": [
       "236.1811135939999"
      ]
     },
     "execution_count": 32,
     "metadata": {},
     "output_type": "execute_result"
    }
   ],
   "source": [
    "crops[crops['label'] == 'rice']['rainfall'].mean()"
   ]
  },
  {
   "cell_type": "markdown",
   "id": "eceb5b71-6660-4292-9013-b1ce12d4ff25",
   "metadata": {},
   "source": [
    "## Maize"
   ]
  },
  {
   "cell_type": "code",
   "execution_count": 33,
   "id": "c646ba93-e34e-4f94-b9df-4f27bd6cd425",
   "metadata": {},
   "outputs": [
    {
     "data": {
      "text/plain": [
       "84.766987663"
      ]
     },
     "execution_count": 33,
     "metadata": {},
     "output_type": "execute_result"
    }
   ],
   "source": [
    "crops[crops['label'] == 'maize']['rainfall'].mean()"
   ]
  },
  {
   "cell_type": "markdown",
   "id": "d59b84af-be2e-4d1e-85e3-20cf487237f5",
   "metadata": {},
   "source": [
    "## Chickpea"
   ]
  },
  {
   "cell_type": "code",
   "execution_count": 34,
   "id": "f2ba0551-91d0-43ef-9f3c-242f4d4a458a",
   "metadata": {},
   "outputs": [
    {
     "data": {
      "text/plain": [
       "80.0589772605"
      ]
     },
     "execution_count": 34,
     "metadata": {},
     "output_type": "execute_result"
    }
   ],
   "source": [
    "crops[crops['label'] == 'chickpea']['rainfall'].mean()"
   ]
  },
  {
   "cell_type": "markdown",
   "id": "d2e83b7e-a158-4939-88fd-5a91f37580b0",
   "metadata": {},
   "source": [
    "## Cotton"
   ]
  },
  {
   "cell_type": "code",
   "execution_count": 35,
   "id": "00571953-fb42-444e-958a-a107dd726374",
   "metadata": {},
   "outputs": [
    {
     "data": {
      "text/plain": [
       "80.39804311930001"
      ]
     },
     "execution_count": 35,
     "metadata": {},
     "output_type": "execute_result"
    }
   ],
   "source": [
    "crops[crops['label'] == 'cotton']['rainfall'].mean()"
   ]
  },
  {
   "cell_type": "markdown",
   "id": "8bea2d7a-38ef-4bb3-94e4-cfae5996bff7",
   "metadata": {},
   "source": [
    "## Dictionaries"
   ]
  },
  {
   "cell_type": "code",
   "execution_count": 36,
   "id": "b80a2ac1-801c-46e7-ab0a-00f28e47cae5",
   "metadata": {
    "collapsed": true,
    "jupyter": {
     "outputs_hidden": true
    },
    "tags": []
   },
   "outputs": [
    {
     "data": {
      "text/plain": [
       "{'rice': 79.89,\n",
       " 'maize': 77.76,\n",
       " 'chickpea': 40.09,\n",
       " 'kidneybeans': 20.75,\n",
       " 'pigeonpeas': 20.73,\n",
       " 'mothbeans': 21.44,\n",
       " 'mungbean': 20.99,\n",
       " 'blackgram': 40.02,\n",
       " 'lentil': 18.77,\n",
       " 'pomegranate': 18.87,\n",
       " 'banana': 100.23,\n",
       " 'mango': 20.07,\n",
       " 'grapes': 23.18,\n",
       " 'watermelon': 99.42,\n",
       " 'muskmelon': 100.32,\n",
       " 'apple': 20.8,\n",
       " 'orange': 19.58,\n",
       " 'papaya': 49.88,\n",
       " 'coconut': 21.98,\n",
       " 'cotton': 117.77,\n",
       " 'jute': 78.4,\n",
       " 'coffee': 101.2}"
      ]
     },
     "execution_count": 36,
     "metadata": {},
     "output_type": "execute_result"
    }
   ],
   "source": [
    "avg_nitrogen_d = {} # Nitrogen\n",
    "for label in labels:\n",
    "    avg_nitrogen_d[label] = crops[crops['label'] == label]['N'].mean()\n",
    "avg_nitrogen_d"
   ]
  },
  {
   "cell_type": "code",
   "execution_count": 37,
   "id": "6f5c31a6-2cac-4b74-907f-e21c69d447e7",
   "metadata": {
    "collapsed": true,
    "jupyter": {
     "outputs_hidden": true
    },
    "tags": []
   },
   "outputs": [
    {
     "data": {
      "text/plain": [
       "{'rice': 47.58,\n",
       " 'maize': 48.44,\n",
       " 'chickpea': 67.79,\n",
       " 'kidneybeans': 67.54,\n",
       " 'pigeonpeas': 67.73,\n",
       " 'mothbeans': 48.01,\n",
       " 'mungbean': 47.28,\n",
       " 'blackgram': 67.47,\n",
       " 'lentil': 68.36,\n",
       " 'pomegranate': 18.75,\n",
       " 'banana': 82.01,\n",
       " 'mango': 27.18,\n",
       " 'grapes': 132.53,\n",
       " 'watermelon': 17.0,\n",
       " 'muskmelon': 17.72,\n",
       " 'apple': 134.22,\n",
       " 'orange': 16.55,\n",
       " 'papaya': 59.05,\n",
       " 'coconut': 16.93,\n",
       " 'cotton': 46.24,\n",
       " 'jute': 46.86,\n",
       " 'coffee': 28.74}"
      ]
     },
     "execution_count": 37,
     "metadata": {},
     "output_type": "execute_result"
    }
   ],
   "source": [
    "avg_phos_d = {} # Phosphorous\n",
    "for label in labels:\n",
    "    avg_phos_d[label] = crops[crops['label'] == label]['P'].mean()\n",
    "avg_phos_d"
   ]
  },
  {
   "cell_type": "code",
   "execution_count": 38,
   "id": "d7e0e6a9-affe-4367-ba59-3e4d2837bb75",
   "metadata": {
    "collapsed": true,
    "jupyter": {
     "outputs_hidden": true
    },
    "tags": []
   },
   "outputs": [
    {
     "data": {
      "text/plain": [
       "{'rice': 39.87,\n",
       " 'maize': 19.79,\n",
       " 'chickpea': 79.92,\n",
       " 'kidneybeans': 20.05,\n",
       " 'pigeonpeas': 20.29,\n",
       " 'mothbeans': 20.23,\n",
       " 'mungbean': 19.87,\n",
       " 'blackgram': 19.24,\n",
       " 'lentil': 19.41,\n",
       " 'pomegranate': 40.21,\n",
       " 'banana': 50.05,\n",
       " 'mango': 29.92,\n",
       " 'grapes': 200.11,\n",
       " 'watermelon': 50.22,\n",
       " 'muskmelon': 50.08,\n",
       " 'apple': 199.89,\n",
       " 'orange': 10.01,\n",
       " 'papaya': 50.04,\n",
       " 'coconut': 30.59,\n",
       " 'cotton': 19.56,\n",
       " 'jute': 39.99,\n",
       " 'coffee': 29.94}"
      ]
     },
     "execution_count": 38,
     "metadata": {},
     "output_type": "execute_result"
    }
   ],
   "source": [
    "avg_potass_d = {} # Potassium\n",
    "for label in labels:\n",
    "    avg_potass_d[label] = crops[crops['label'] == label]['K'].mean()\n",
    "avg_potass_d"
   ]
  },
  {
   "cell_type": "code",
   "execution_count": 39,
   "id": "aedc06dd-5785-45cb-b1dc-94a118f96199",
   "metadata": {
    "collapsed": true,
    "jupyter": {
     "outputs_hidden": true
    },
    "tags": []
   },
   "outputs": [
    {
     "data": {
      "text/plain": [
       "{'rice': 23.689332210500005,\n",
       " 'maize': 22.389203910200003,\n",
       " 'chickpea': 18.872846751900003,\n",
       " 'kidneybeans': 20.115084685100005,\n",
       " 'pigeonpeas': 27.741762225899997,\n",
       " 'mothbeans': 28.194920484199987,\n",
       " 'mungbean': 28.525774735299997,\n",
       " 'blackgram': 29.97333967889999,\n",
       " 'lentil': 24.50905240260001,\n",
       " 'pomegranate': 21.837841722000004,\n",
       " 'banana': 27.3767983057,\n",
       " 'mango': 31.208770151299987,\n",
       " 'grapes': 23.849575120050005,\n",
       " 'watermelon': 25.591767237500004,\n",
       " 'muskmelon': 28.663065755999995,\n",
       " 'apple': 22.6309424132,\n",
       " 'orange': 22.765725496699996,\n",
       " 'papaya': 33.7238587388,\n",
       " 'coconut': 27.409892172299998,\n",
       " 'cotton': 23.988957895200016,\n",
       " 'jute': 24.9583758265,\n",
       " 'coffee': 25.540476819299997}"
      ]
     },
     "execution_count": 39,
     "metadata": {},
     "output_type": "execute_result"
    }
   ],
   "source": [
    "avg_temp_d = {} # celsius\n",
    "for label in labels:\n",
    "    avg_temp_d[label] = crops[crops['label'] == label]['temperature'].mean()\n",
    "avg_temp_d"
   ]
  },
  {
   "cell_type": "code",
   "execution_count": 40,
   "id": "f5aaab59-a635-418e-920f-008e94f80c5a",
   "metadata": {
    "collapsed": true,
    "jupyter": {
     "outputs_hidden": true
    },
    "tags": []
   },
   "outputs": [
    {
     "data": {
      "text/plain": [
       "{'rice': 82.2728215389,\n",
       " 'maize': 65.09224944670001,\n",
       " 'chickpea': 16.8604394237,\n",
       " 'kidneybeans': 21.60535672949999,\n",
       " 'pigeonpeas': 48.06163308470001,\n",
       " 'mothbeans': 53.160418027900015,\n",
       " 'mungbean': 85.49997454300001,\n",
       " 'blackgram': 65.11842558870002,\n",
       " 'lentil': 64.80478467849998,\n",
       " 'pomegranate': 90.12550378949999,\n",
       " 'banana': 80.35812258109999,\n",
       " 'mango': 50.156572695300035,\n",
       " 'grapes': 81.87522752119999,\n",
       " 'watermelon': 85.16037529360001,\n",
       " 'muskmelon': 92.34280196090002,\n",
       " 'apple': 92.33338287560004,\n",
       " 'orange': 92.17020876340004,\n",
       " 'papaya': 92.40338768259998,\n",
       " 'coconut': 94.84427180609998,\n",
       " 'cotton': 79.84347425379998,\n",
       " 'jute': 79.6398642063,\n",
       " 'coffee': 58.869846300299976}"
      ]
     },
     "execution_count": 40,
     "metadata": {},
     "output_type": "execute_result"
    }
   ],
   "source": [
    "avg_humid_d = {} # relative humidity in %\n",
    "for label in labels:\n",
    "    avg_humid_d[label] = crops[crops['label'] == label]['humidity'].mean()\n",
    "avg_humid_d"
   ]
  },
  {
   "cell_type": "code",
   "execution_count": 41,
   "id": "5a3355e3-0d01-426a-ab66-32ec38b891a3",
   "metadata": {
    "collapsed": true,
    "jupyter": {
     "outputs_hidden": true
    },
    "tags": []
   },
   "outputs": [
    {
     "data": {
      "text/plain": [
       "{'rice': 6.425470922139999,\n",
       " 'maize': 6.245189722399997,\n",
       " 'chickpea': 7.33695662374,\n",
       " 'kidneybeans': 5.749410585869998,\n",
       " 'pigeonpeas': 5.794174879790001,\n",
       " 'mothbeans': 6.8311740826900005,\n",
       " 'mungbean': 6.723956940370001,\n",
       " 'blackgram': 7.1339516294799985,\n",
       " 'lentil': 6.927931571609998,\n",
       " 'pomegranate': 6.42917184117,\n",
       " 'banana': 5.983893180240001,\n",
       " 'mango': 5.766372799660001,\n",
       " 'grapes': 6.025936681100002,\n",
       " 'watermelon': 6.49577830157,\n",
       " 'muskmelon': 6.358805451790002,\n",
       " 'apple': 5.9296629318099985,\n",
       " 'orange': 7.01695745276,\n",
       " 'papaya': 6.74144237274,\n",
       " 'coconut': 5.976562126190004,\n",
       " 'cotton': 6.91267549578,\n",
       " 'jute': 6.732777568170002,\n",
       " 'coffee': 6.790308274570002}"
      ]
     },
     "execution_count": 41,
     "metadata": {},
     "output_type": "execute_result"
    }
   ],
   "source": [
    "avg_ph_d = {} # acidic 0 - 14 basic of soil\n",
    "for label in labels:\n",
    "    avg_ph_d[label] = crops[crops['label'] == label]['ph'].mean()\n",
    "avg_ph_d"
   ]
  },
  {
   "cell_type": "code",
   "execution_count": 42,
   "id": "a50f4767-5fe9-4ca0-913e-4b319e9dce44",
   "metadata": {
    "collapsed": true,
    "jupyter": {
     "outputs_hidden": true
    },
    "tags": []
   },
   "outputs": [
    {
     "data": {
      "text/plain": [
       "{'rice': 236.1811135939999,\n",
       " 'maize': 84.766987663,\n",
       " 'chickpea': 80.0589772605,\n",
       " 'kidneybeans': 105.91977754210005,\n",
       " 'pigeonpeas': 149.45756381350003,\n",
       " 'mothbeans': 51.198487045700006,\n",
       " 'mungbean': 48.40360090290002,\n",
       " 'blackgram': 67.88415118319999,\n",
       " 'lentil': 45.68045420399998,\n",
       " 'pomegranate': 107.52844239700002,\n",
       " 'banana': 104.62698040009998,\n",
       " 'mango': 94.70451504479996,\n",
       " 'grapes': 69.61182888600003,\n",
       " 'watermelon': 50.786218944900014,\n",
       " 'muskmelon': 24.689952066000004,\n",
       " 'apple': 112.65477927500005,\n",
       " 'orange': 110.47496871999998,\n",
       " 'papaya': 142.62783886290003,\n",
       " 'coconut': 175.68664580400008,\n",
       " 'cotton': 80.39804311930001,\n",
       " 'jute': 174.792797536,\n",
       " 'coffee': 158.06629488199994}"
      ]
     },
     "execution_count": 42,
     "metadata": {},
     "output_type": "execute_result"
    }
   ],
   "source": [
    "avg_rain_d = {} # in mm\n",
    "for label in labels:\n",
    "    avg_rain_d[label] = crops[crops['label'] == label]['rainfall'].mean()\n",
    "avg_rain_d"
   ]
  },
  {
   "cell_type": "markdown",
   "id": "af6bc17a-119c-43ee-9e13-6a87f2a9bda4",
   "metadata": {},
   "source": [
    "## Plots"
   ]
  },
  {
   "cell_type": "code",
   "execution_count": 299,
   "id": "8e35f63e-ded0-4946-a207-de3580defb88",
   "metadata": {},
   "outputs": [
    {
     "data": {
      "image/png": "[encoded data removed]",
      "text/plain": [
       "<Figure size 864x720 with 1 Axes>"
      ]
     },
     "metadata": {},
     "output_type": "display_data"
    }
   ],
   "source": [
    "fig, ax = plt.subplots(figsize=(12, 10))\n",
    "mean_of_nitrogen = 50.551818\n",
    "\n",
    "for key, value in avg_nitrogen_d.items():\n",
    "    ax.bar(key, value)\n",
    "    ax.set_xlabel('Crop', fontsize=14)\n",
    "    ax.set_xticklabels(labels, rotation=45, ha='right')\n",
    "    ax.axhline(mean_of_nitrogen)\n",
    "    ax.set_ylabel('Avg Nitrogen Ratio in Soil', fontsize=14)\n",
    "    ax.set_title('Avg Nitrogen Ratio in Soil for Each Crop', fontsize=16);"
   ]
  },
  {
   "cell_type": "code",
   "execution_count": 291,
   "id": "1bee3f37-00ba-4120-912a-f0f79ec3c2c7",
   "metadata": {},
   "outputs": [
    {
     "data": {
      "image/png": "[encoded data removed]",
      "text/plain": [
       "<Figure size 864x720 with 1 Axes>"
      ]
     },
     "metadata": {},
     "output_type": "display_data"
    }
   ],
   "source": [
    "# Temperature\n",
    "fig, ax = plt.subplots(figsize=(12, 10))\n",
    "mean_of_temp = 25.616244\n",
    "\n",
    "for key, value in avg_temp_d.items():\n",
    "    ax.bar(key, value)\n",
    "    ax.set_xlabel('Crop', fontsize=14)\n",
    "    ax.set_xticklabels(labels, rotation=45, ha='right')\n",
    "    ax.axhline(mean_of_temp)\n",
    "    ax.set_ylabel('Avg Temperature (Celsisus)', fontsize=14)\n",
    "    ax.set_title('Avg Temperature for Each Crop (Celsius)', fontsize=16);"
   ]
  },
  {
   "cell_type": "code",
   "execution_count": 290,
   "id": "125992e0-f4e1-4848-a33c-c25a06690988",
   "metadata": {},
   "outputs": [
    {
     "data": {
      "image/png": "[encoded data removed]",
      "text/plain": [
       "<Figure size 864x720 with 1 Axes>"
      ]
     },
     "metadata": {},
     "output_type": "display_data"
    }
   ],
   "source": [
    "fig, ax = plt.subplots(figsize=(12, 10))\n",
    "mean_of_rain = 103.463655\n",
    "\n",
    "for key, value in avg_rain_d.items():\n",
    "    ax.bar(key, value)\n",
    "    ax.set_xlabel('Crop', fontsize=14)\n",
    "    ax.set_xticklabels(labels, rotation=45, ha='right')\n",
    "    ax.axhline(mean_of_rain)\n",
    "    ax.set_ylabel('Avg Rainfall (mm)', fontsize=14)\n",
    "    ax.set_title('Avg Rainfall for Each Crop', fontsize=16);"
   ]
  },
  {
   "cell_type": "markdown",
   "id": "8ec2a201-f825-44fe-bd25-cbb838e7287e",
   "metadata": {},
   "source": [
    "## Different Classifier Models"
   ]
  },
  {
   "cell_type": "markdown",
   "id": "e1061e29-d1b9-459b-8aa8-7ceec3aa9bd5",
   "metadata": {},
   "source": [
    "### Setup for All Models"
   ]
  },
  {
   "cell_type": "code",
   "execution_count": 185,
   "id": "f76861c3-eeda-4e82-9d5e-78cad5d8feee",
   "metadata": {},
   "outputs": [],
   "source": [
    "from sklearn.model_selection import train_test_split\n",
    "from sklearn.metrics import accuracy_score, recall_score, precision_score, f1_score"
   ]
  },
  {
   "cell_type": "code",
   "execution_count": 122,
   "id": "685b81fa-f9b0-47c8-b517-5fb8824e0aa6",
   "metadata": {},
   "outputs": [],
   "source": [
    "# Creating X, y\n",
    "X = crops[['N', 'P', 'K', 'temperature', 'humidity', 'ph', 'rainfall']]\n",
    "y = crops['label']\n",
    "\n",
    "# Train, Test, Split\n",
    "X_train, X_test, y_train, y_test = train_test_split(X, y, test_size=0.3)"
   ]
  },
  {
   "cell_type": "markdown",
   "id": "26447d1b-7fd3-4ed1-a88e-eb866de5e45a",
   "metadata": {},
   "source": [
    "### 1) Decision Tree"
   ]
  },
  {
   "cell_type": "code",
   "execution_count": 150,
   "id": "46b758d3-ae38-4f84-ad51-86412bc81264",
   "metadata": {},
   "outputs": [],
   "source": [
    "from sklearn.tree import DecisionTreeClassifier"
   ]
  },
  {
   "cell_type": "code",
   "execution_count": 151,
   "id": "93ee9f46-7b13-4dbd-835a-839ac6408f02",
   "metadata": {},
   "outputs": [],
   "source": [
    "dtree = DecisionTreeClassifier(max_depth=10)\n",
    "dtree.fit(X_train, y_train)\n",
    "dt_pred = dtree.predict(X_test)"
   ]
  },
  {
   "cell_type": "code",
   "execution_count": 152,
   "id": "08c69470-097b-425a-b6bb-131b92677cc2",
   "metadata": {
    "collapsed": true,
    "jupyter": {
     "outputs_hidden": true
    },
    "tags": []
   },
   "outputs": [
    {
     "name": "stdout",
     "output_type": "stream",
     "text": [
      "rice jute\n",
      "jute rice\n",
      "kidneybeans lentil\n",
      "jute rice\n",
      "mothbeans lentil\n",
      "jute rice\n",
      "rice jute\n",
      "mothbeans blackgram\n",
      "maize cotton\n",
      "mothbeans lentil\n",
      "maize cotton\n"
     ]
    }
   ],
   "source": [
    "for i, j in zip(y_test, dt_pred):\n",
    "    if i != j:\n",
    "        print(i, j)"
   ]
  },
  {
   "cell_type": "code",
   "execution_count": 207,
   "id": "37c8f3cf-f230-4338-8374-9ed2d4e81607",
   "metadata": {},
   "outputs": [],
   "source": [
    "dt_accuracy = np.round(accuracy_score(y_test, dt_pred), 10)\n",
    "dt_precision = np.round(precision_score(y_test, dt_pred, average='macro'), 10)\n",
    "dt_recall = np.round(recall_score(y_test, dt_pred, average='macro'), 10)\n",
    "dt_f1 = np.round(f1_score(y_test, dt_pred, average='macro'), 10)"
   ]
  },
  {
   "cell_type": "code",
   "execution_count": 208,
   "id": "b52b01ab-7226-47f0-971f-c50980b3e0d4",
   "metadata": {},
   "outputs": [
    {
     "name": "stdout",
     "output_type": "stream",
     "text": [
      "DecisionTree \n",
      "-------------\n",
      "Accuracy: 0.9833333333\n",
      "Precision: 0.9830116442\n",
      "Recall: 0.9814833716\n",
      "F1 Score: 0.9818091743\n"
     ]
    }
   ],
   "source": [
    "print(\"DecisionTree \\n-------------\")\n",
    "print(f\"Accuracy: {dt_accuracy}\")\n",
    "print(f\"Precision: {dt_precision}\")\n",
    "print(f\"Recall: {dt_recall}\")\n",
    "print(f\"F1 Score: {dt_f1}\")"
   ]
  },
  {
   "cell_type": "code",
   "execution_count": 158,
   "id": "f5372207-ccfe-499a-bf51-820bf07651b1",
   "metadata": {},
   "outputs": [
    {
     "data": {
      "text/plain": [
       "array(['pigeonpeas'], dtype=object)"
      ]
     },
     "execution_count": 158,
     "metadata": {},
     "output_type": "execute_result"
    }
   ],
   "source": [
    "# Testing Flask App input\n",
    "input_ = np.array([36, 61.4, 43.19, 30, 30, 6.2, 82.3]).reshape(1, -1)\n",
    "dtree.predict(input_)"
   ]
  },
  {
   "cell_type": "markdown",
   "id": "ee658c02-7ee2-451f-a706-edda4958d3d1",
   "metadata": {},
   "source": [
    "### 2) Random Forest"
   ]
  },
  {
   "cell_type": "code",
   "execution_count": 123,
   "id": "e70ad58b-9e6f-4f62-8a2b-1871b6e4a4b1",
   "metadata": {},
   "outputs": [],
   "source": [
    "from sklearn.ensemble import RandomForestClassifier"
   ]
  },
  {
   "cell_type": "code",
   "execution_count": 145,
   "id": "b4b315fe-5bc6-4f3c-8441-e14233e65e2b",
   "metadata": {},
   "outputs": [],
   "source": [
    "rf = RandomForestClassifier(n_estimators=100, max_depth=10)\n",
    "rf.fit(X_train, y_train)\n",
    "rf_pred = rf.predict(X_test)"
   ]
  },
  {
   "cell_type": "code",
   "execution_count": 149,
   "id": "309caddf-0ba1-4310-9f2f-7e693588e626",
   "metadata": {
    "collapsed": true,
    "jupyter": {
     "outputs_hidden": true
    },
    "tags": []
   },
   "outputs": [
    {
     "name": "stdout",
     "output_type": "stream",
     "text": [
      "rice jute\n",
      "rice jute\n",
      "mothbeans lentil\n",
      "maize cotton\n"
     ]
    }
   ],
   "source": [
    "for i, j in zip(y_test, rf_pred):\n",
    "    if i != j:\n",
    "        print(i, j)"
   ]
  },
  {
   "cell_type": "code",
   "execution_count": 205,
   "id": "476b30c7-faa3-43a7-99df-693f1daef814",
   "metadata": {},
   "outputs": [],
   "source": [
    "rf_accuracy = np.round(accuracy_score(y_test, rf_pred), 10)\n",
    "rf_precision = np.round(precision_score(y_test, rf_pred, average='macro'), 10)\n",
    "rf_recall = np.round(recall_score(y_test, rf_pred, average='macro'), 10)\n",
    "rf_f1 = np.round(f1_score(y_test, rf_pred, average='macro'), 10)"
   ]
  },
  {
   "cell_type": "code",
   "execution_count": 206,
   "id": "7f1a1d51-1958-49e4-ad80-235649e1bc03",
   "metadata": {},
   "outputs": [
    {
     "name": "stdout",
     "output_type": "stream",
     "text": [
      "RandomForest \n",
      "-------------\n",
      "Accuracy: 0.9939393939\n",
      "Precision: 0.9944014929\n",
      "Recall: 0.992614019\n",
      "F1 Score: 0.9933264335\n"
     ]
    }
   ],
   "source": [
    "print(\"RandomForest \\n-------------\")\n",
    "print(f\"Accuracy: {rf_accuracy}\")\n",
    "print(f\"Precision: {rf_precision}\")\n",
    "print(f\"Recall: {rf_recall}\")\n",
    "print(f\"F1 Score: {rf_f1}\")"
   ]
  },
  {
   "cell_type": "code",
   "execution_count": 134,
   "id": "1989adc4-d230-4b5f-8ce1-bbbb446f7071",
   "metadata": {},
   "outputs": [
    {
     "data": {
      "text/plain": [
       "array(['mango'], dtype=object)"
      ]
     },
     "execution_count": 134,
     "metadata": {},
     "output_type": "execute_result"
    }
   ],
   "source": [
    "# Testing Flask App input\n",
    "input_ = np.array([36, 61.4, 43.19, 30, 30, 6.2, 82.3]).reshape(1, -1)\n",
    "rf.predict(input_)"
   ]
  },
  {
   "cell_type": "markdown",
   "id": "1aa67e18-520b-4c28-ae0c-7acc429b1456",
   "metadata": {},
   "source": [
    "### 3) Stochastic Gradient Descent"
   ]
  },
  {
   "cell_type": "code",
   "execution_count": 97,
   "id": "3d0efa40-36ed-49fb-8ba9-3f77eea358c2",
   "metadata": {},
   "outputs": [],
   "source": [
    "from sklearn.linear_model import SGDClassifier"
   ]
  },
  {
   "cell_type": "code",
   "execution_count": 181,
   "id": "51fb9b12-eb02-4e78-9c43-31d546dda8b5",
   "metadata": {},
   "outputs": [],
   "source": [
    "sgd = SGDClassifier()\n",
    "sgd.fit(X_train, y_train)\n",
    "sgd_pred = sgd.predict(X_test)"
   ]
  },
  {
   "cell_type": "code",
   "execution_count": 182,
   "id": "e745b33e-d141-4f88-bf06-e4146351a9ff",
   "metadata": {
    "collapsed": true,
    "jupyter": {
     "outputs_hidden": true
    },
    "tags": []
   },
   "outputs": [
    {
     "name": "stdout",
     "output_type": "stream",
     "text": [
      "blackgram papaya\n",
      "jute papaya\n",
      "jute papaya\n",
      "coconut papaya\n",
      "banana papaya\n",
      "mothbeans mungbean\n",
      "watermelon papaya\n",
      "jute maize\n",
      "banana papaya\n",
      "jute papaya\n",
      "rice papaya\n",
      "banana papaya\n",
      "apple papaya\n",
      "lentil papaya\n",
      "blackgram maize\n",
      "banana papaya\n",
      "jute maize\n",
      "jute papaya\n",
      "banana papaya\n",
      "jute papaya\n",
      "mango papaya\n",
      "banana papaya\n",
      "mothbeans mungbean\n",
      "jute papaya\n",
      "rice papaya\n",
      "banana papaya\n",
      "mothbeans maize\n",
      "banana papaya\n",
      "banana papaya\n",
      "rice papaya\n",
      "blackgram lentil\n",
      "jute papaya\n",
      "banana papaya\n",
      "coffee papaya\n",
      "mothbeans papaya\n",
      "jute papaya\n",
      "pigeonpeas papaya\n",
      "mothbeans papaya\n",
      "banana papaya\n",
      "banana papaya\n",
      "mungbean papaya\n",
      "mungbean papaya\n",
      "blackgram maize\n",
      "blackgram maize\n",
      "mango papaya\n",
      "jute papaya\n",
      "jute papaya\n",
      "jute papaya\n",
      "lentil papaya\n",
      "mothbeans maize\n",
      "watermelon papaya\n",
      "jute papaya\n",
      "banana papaya\n",
      "mango papaya\n",
      "jute papaya\n",
      "lentil maize\n",
      "jute papaya\n",
      "jute papaya\n",
      "blackgram maize\n",
      "mango papaya\n",
      "lentil papaya\n",
      "mango papaya\n",
      "mango papaya\n",
      "banana papaya\n",
      "coffee maize\n",
      "jute papaya\n",
      "blackgram papaya\n",
      "banana papaya\n",
      "banana papaya\n",
      "blackgram papaya\n",
      "coconut papaya\n",
      "banana papaya\n",
      "mango papaya\n",
      "jute papaya\n",
      "jute papaya\n",
      "lentil papaya\n",
      "jute papaya\n",
      "banana papaya\n",
      "jute papaya\n",
      "banana papaya\n",
      "blackgram maize\n",
      "coffee maize\n",
      "cotton maize\n",
      "banana papaya\n",
      "papaya rice\n",
      "jute papaya\n",
      "kidneybeans pigeonpeas\n",
      "coffee maize\n",
      "blackgram maize\n",
      "banana papaya\n",
      "jute papaya\n",
      "maize cotton\n",
      "blackgram papaya\n",
      "jute papaya\n",
      "blackgram papaya\n",
      "lentil maize\n",
      "jute papaya\n",
      "coconut papaya\n",
      "blackgram maize\n",
      "watermelon papaya\n",
      "watermelon pomegranate\n",
      "mothbeans papaya\n",
      "coconut papaya\n",
      "lentil maize\n",
      "lentil maize\n",
      "mothbeans papaya\n",
      "blackgram maize\n",
      "banana papaya\n",
      "mothbeans papaya\n",
      "banana papaya\n",
      "coconut papaya\n",
      "blackgram maize\n",
      "coconut papaya\n",
      "banana papaya\n",
      "banana papaya\n",
      "banana papaya\n",
      "banana papaya\n",
      "blackgram maize\n",
      "blackgram maize\n",
      "banana papaya\n",
      "pigeonpeas papaya\n",
      "watermelon pomegranate\n",
      "banana papaya\n",
      "mungbean papaya\n",
      "coffee papaya\n",
      "banana papaya\n",
      "lentil mungbean\n",
      "watermelon papaya\n",
      "banana papaya\n",
      "banana papaya\n",
      "banana papaya\n",
      "lentil papaya\n",
      "coconut papaya\n",
      "jute papaya\n",
      "mango papaya\n",
      "blackgram papaya\n",
      "mothbeans papaya\n",
      "jute papaya\n",
      "banana papaya\n",
      "jute papaya\n",
      "watermelon papaya\n",
      "blackgram maize\n",
      "jute papaya\n",
      "pigeonpeas papaya\n",
      "blackgram maize\n",
      "maize cotton\n",
      "jute papaya\n"
     ]
    }
   ],
   "source": [
    "# See which ones it got wrong\n",
    "for i, j in zip(y_test, sgd_pred):\n",
    "    if i != j:\n",
    "        print(i, j)"
   ]
  },
  {
   "cell_type": "code",
   "execution_count": 202,
   "id": "6cc38c3e-5fac-490b-9c2c-fb65a2d342e2",
   "metadata": {},
   "outputs": [
    {
     "name": "stderr",
     "output_type": "stream",
     "text": [
      "/Users/jeffreybaksa/opt/anaconda3/lib/python3.8/site-packages/sklearn/metrics/_classification.py:1245: UndefinedMetricWarning: Precision is ill-defined and being set to 0.0 in labels with no predicted samples. Use `zero_division` parameter to control this behavior.\n",
      "  _warn_prf(average, modifier, msg_start, len(result))\n"
     ]
    }
   ],
   "source": [
    "sgd_accuracy = np.round(accuracy_score(y_test, sgd_pred), 10)\n",
    "sgd_precision = np.round(precision_score(y_test, sgd_pred, average='macro'), 10)\n",
    "sgd_recall = np.round(recall_score(y_test, sgd_pred, average='macro'), 10)\n",
    "sgd_f1 = np.round(f1_score(y_test, sgd_pred, average='macro'), 10)"
   ]
  },
  {
   "cell_type": "code",
   "execution_count": 203,
   "id": "c6420fb9-c36c-4a14-b2a8-d9b81d1e7067",
   "metadata": {},
   "outputs": [
    {
     "name": "stdout",
     "output_type": "stream",
     "text": [
      "Stochastic Gradient Descent \n",
      "-------------\n",
      "Accuracy: 0.7772727273\n",
      "Precision: 0.833260911\n",
      "Recall: 0.7720244619\n",
      "F1 Score: 0.7651315666\n"
     ]
    }
   ],
   "source": [
    "print(\"Stochastic Gradient Descent \\n-------------\")\n",
    "print(f\"Accuracy: {sgd_accuracy}\")\n",
    "print(f\"Precision: {sgd_precision}\")\n",
    "print(f\"Recall: {sgd_recall}\")\n",
    "print(f\"F1 Score: {sgd_f1}\")"
   ]
  },
  {
   "cell_type": "code",
   "execution_count": 159,
   "id": "cbfdc214-5c81-4698-bc6a-c7eb9cabe7b1",
   "metadata": {},
   "outputs": [
    {
     "data": {
      "text/plain": [
       "array(['mothbeans'], dtype='<U11')"
      ]
     },
     "execution_count": 159,
     "metadata": {},
     "output_type": "execute_result"
    }
   ],
   "source": [
    "# Testing Flask App input\n",
    "input_ = np.array([36, 61.4, 43.19, 30, 30, 6.2, 82.3]).reshape(1, -1)\n",
    "sgd.predict(input_)"
   ]
  },
  {
   "cell_type": "markdown",
   "id": "940fbc40-4098-41ad-8c4b-b1a0a3a150f8",
   "metadata": {},
   "source": [
    "### 4) K-Nearest Neighbors"
   ]
  },
  {
   "cell_type": "code",
   "execution_count": 114,
   "id": "ba8a4c8e-4b5a-42c5-ab37-fc7654276efe",
   "metadata": {},
   "outputs": [],
   "source": [
    "from sklearn.neighbors import KNeighborsClassifier"
   ]
  },
  {
   "cell_type": "code",
   "execution_count": 198,
   "id": "835bd020-391f-4dc2-b736-e22431c41ad6",
   "metadata": {},
   "outputs": [],
   "source": [
    "knn = KNeighborsClassifier(n_neighbors=8)\n",
    "knn.fit(X_train, y_train)\n",
    "knn_pred = knn.predict(X_test)"
   ]
  },
  {
   "cell_type": "code",
   "execution_count": 199,
   "id": "48182c15-fbea-47a3-940a-18faf633c0d5",
   "metadata": {},
   "outputs": [
    {
     "name": "stdout",
     "output_type": "stream",
     "text": [
      "jute rice\n",
      "rice jute\n",
      "mothbeans lentil\n",
      "rice jute\n",
      "jute rice\n",
      "mothbeans lentil\n",
      "mothbeans lentil\n",
      "maize cotton\n"
     ]
    }
   ],
   "source": [
    "# See which ones it got wrong\n",
    "for i, j in zip(y_test, knn_pred):\n",
    "    if i != j:\n",
    "        print(i, j)"
   ]
  },
  {
   "cell_type": "code",
   "execution_count": 200,
   "id": "4af3e42d-88cc-4db5-b7ba-0621f0e5e1d9",
   "metadata": {},
   "outputs": [],
   "source": [
    "knn_accuracy = np.round(accuracy_score(y_test, knn_pred), 10)\n",
    "knn_precision = np.round(precision_score(y_test, knn_pred, average='macro'), 10)\n",
    "knn_recall = np.round(recall_score(y_test, knn_pred, average='macro'), 10)\n",
    "knn_f1 = np.round(f1_score(y_test, knn_pred, average='macro'), 10)"
   ]
  },
  {
   "cell_type": "code",
   "execution_count": 201,
   "id": "4c3b0b76-442a-4723-b4e5-1719f3c18929",
   "metadata": {},
   "outputs": [
    {
     "name": "stdout",
     "output_type": "stream",
     "text": [
      "K-Nearest Neighbors \n",
      "-------------\n",
      "Accuracy: 0.9878787879\n",
      "Precision: 0.9880687055\n",
      "Recall: 0.9863144643\n",
      "F1 Score: 0.9869197712\n"
     ]
    }
   ],
   "source": [
    "print(\"K-Nearest Neighbors \\n-------------\")\n",
    "print(f\"Accuracy: {knn_accuracy}\")\n",
    "print(f\"Precision: {knn_precision}\")\n",
    "print(f\"Recall: {knn_recall}\")\n",
    "print(f\"F1 Score: {knn_f1}\")"
   ]
  },
  {
   "cell_type": "markdown",
   "id": "f0bd8b49-a14d-4596-8b3e-7cb7a1566473",
   "metadata": {},
   "source": [
    "### 5) Naive Bayes"
   ]
  },
  {
   "cell_type": "code",
   "execution_count": 209,
   "id": "775d5fb3-698a-4360-9bad-9e37ebab6b35",
   "metadata": {},
   "outputs": [],
   "source": [
    "from sklearn.naive_bayes import GaussianNB"
   ]
  },
  {
   "cell_type": "code",
   "execution_count": 281,
   "id": "7cc86633-a548-4232-8c27-900416aa643f",
   "metadata": {},
   "outputs": [],
   "source": [
    "nb = GaussianNB()\n",
    "nb.fit(X_train, y_train)\n",
    "nb_pred = nb.predict(X_test)"
   ]
  },
  {
   "cell_type": "code",
   "execution_count": 282,
   "id": "c5a94542-b64e-4588-aa65-bc42d7be70f8",
   "metadata": {},
   "outputs": [
    {
     "name": "stdout",
     "output_type": "stream",
     "text": [
      "rice jute\n",
      "maize cotton\n"
     ]
    }
   ],
   "source": [
    "# See which ones it got wrong\n",
    "for i, j in zip(y_test, nb_pred):\n",
    "    if i != j:\n",
    "        print(i, j)"
   ]
  },
  {
   "cell_type": "code",
   "execution_count": 370,
   "id": "47908a8b-4ca1-4300-8ade-1638bac108e4",
   "metadata": {},
   "outputs": [
    {
     "name": "stdout",
     "output_type": "stream",
     "text": [
      "['coconut' 'pomegranate' 'watermelon']\n",
      "\n",
      "['orange' 'pigeonpeas' 'mango']\n",
      "\n",
      "['orange' 'coconut' 'mango']\n",
      "\n",
      "['rice' 'blackgram' 'jute']\n",
      "\n",
      "['apple' 'papaya' 'coffee']\n",
      "\n",
      "['pigeonpeas' 'coconut' 'lentil']\n",
      "\n",
      "['coffee' 'papaya' 'apple']\n",
      "\n",
      "['mungbean' 'mango' 'mothbeans']\n",
      "\n",
      "['rice' 'blackgram' 'jute']\n",
      "\n",
      "['chickpea' 'watermelon' 'banana']\n",
      "\n"
     ]
    }
   ],
   "source": [
    "# Get top 3 recommendations for \n",
    "for i in np.argsort(test[:10]):\n",
    "    i = i[-3:][::-1]\n",
    "    print(f\"{crop_labels[i]}\\n\")"
   ]
  },
  {
   "cell_type": "code",
   "execution_count": 277,
   "id": "96a3a430-826a-4e6e-858c-42d4652be63c",
   "metadata": {},
   "outputs": [],
   "source": [
    "nb_accuracy = np.round(accuracy_score(y_test, nb_pred), 10)\n",
    "nb_precision = np.round(precision_score(y_test, nb_pred, average='macro'), 10)\n",
    "nb_recall = np.round(recall_score(y_test, nb_pred, average='macro'), 10)\n",
    "nb_f1 = np.round(f1_score(y_test, nb_pred, average='macro'), 10)"
   ]
  },
  {
   "cell_type": "code",
   "execution_count": 278,
   "id": "11cddaea-ece3-47fc-8b7d-edc58256534c",
   "metadata": {},
   "outputs": [
    {
     "name": "stdout",
     "output_type": "stream",
     "text": [
      "Naive Bayes \n",
      "-------------\n",
      "Accuracy: 0.996969697\n",
      "Precision: 0.9971132698\n",
      "Recall: 0.9961157025\n",
      "F1 Score: 0.9965486166\n"
     ]
    }
   ],
   "source": [
    "print(\"Naive Bayes \\n-------------\")\n",
    "print(f\"Accuracy: {nb_accuracy}\") # ratio of correct predictions\n",
    "print(f\"Precision: {nb_precision}\") # TP / TP + FP... pos / all things identified as pos \n",
    "print(f\"Recall: {nb_recall}\") # TP / TP + FN... if this thing is pos...whats the prob i identified as pos\n",
    "print(f\"F1 Score: {nb_f1}\") # harmonic mean of precision, recall"
   ]
  },
  {
   "cell_type": "code",
   "execution_count": 310,
   "id": "c95b9be1-2a37-482e-9304-0e44940b4bb8",
   "metadata": {},
   "outputs": [],
   "source": [
    "# Save the Model\n",
    "pkl_filename = 'models/naive_bayes_model.pkl'\n",
    "\n",
    "with open(pkl_filename, 'wb') as file:\n",
    "    pickle.dump(nb, file)"
   ]
  },
  {
   "cell_type": "code",
   "execution_count": 284,
   "id": "71f8fe26-033b-4387-a71d-367218c210db",
   "metadata": {},
   "outputs": [],
   "source": [
    "# # To Open the Model back up\n",
    "# # Load the Model back from file\n",
    "\n",
    "# with open(pkl_filename, 'rb') as file:  \n",
    "#     pickled_NB_Model = pickle.load(file)\n",
    "\n",
    "# pickled_NB_Model"
   ]
  },
  {
   "cell_type": "markdown",
   "id": "9561db5e-207f-4c19-b801-cdfda33b752d",
   "metadata": {},
   "source": [
    "### 6) Logistic Regression"
   ]
  },
  {
   "cell_type": "code",
   "execution_count": 214,
   "id": "384dce3d-b7a3-46f6-a61f-afd21f855e9e",
   "metadata": {},
   "outputs": [],
   "source": [
    "from sklearn.linear_model import LogisticRegression"
   ]
  },
  {
   "cell_type": "code",
   "execution_count": 217,
   "id": "fd0433ef-16a6-4b60-952c-2971d926b941",
   "metadata": {},
   "outputs": [
    {
     "name": "stderr",
     "output_type": "stream",
     "text": [
      "/Users/jeffreybaksa/opt/anaconda3/lib/python3.8/site-packages/sklearn/linear_model/_logistic.py:763: ConvergenceWarning: lbfgs failed to converge (status=1):\n",
      "STOP: TOTAL NO. of ITERATIONS REACHED LIMIT.\n",
      "\n",
      "Increase the number of iterations (max_iter) or scale the data as shown in:\n",
      "    https://scikit-learn.org/stable/modules/preprocessing.html\n",
      "Please also refer to the documentation for alternative solver options:\n",
      "    https://scikit-learn.org/stable/modules/linear_model.html#logistic-regression\n",
      "  n_iter_i = _check_optimize_result(\n"
     ]
    }
   ],
   "source": [
    "lr = LogisticRegression() # Logistic Regression Classifier\n",
    "lr.fit(X_train, y_train)\n",
    "lr_pred = lr.predict(X_test)"
   ]
  },
  {
   "cell_type": "code",
   "execution_count": 218,
   "id": "28e9790c-5a08-41e6-818d-f1245d33647b",
   "metadata": {
    "collapsed": true,
    "jupyter": {
     "outputs_hidden": true
    },
    "tags": []
   },
   "outputs": [
    {
     "name": "stdout",
     "output_type": "stream",
     "text": [
      "cotton maize\n",
      "jute rice\n",
      "mothbeans mungbean\n",
      "jute rice\n",
      "jute papaya\n",
      "rice jute\n",
      "maize banana\n",
      "mothbeans mungbean\n",
      "jute rice\n",
      "blackgram lentil\n",
      "mothbeans mungbean\n",
      "lentil blackgram\n",
      "rice jute\n",
      "papaya coconut\n",
      "kidneybeans pigeonpeas\n",
      "jute rice\n",
      "cotton maize\n",
      "maize cotton\n",
      "papaya coconut\n",
      "papaya coconut\n",
      "maize cotton\n"
     ]
    }
   ],
   "source": [
    "# See which ones it got wrong\n",
    "for i, j in zip(y_test, lr_pred):\n",
    "    if i != j:\n",
    "        print(i, j)"
   ]
  },
  {
   "cell_type": "code",
   "execution_count": 219,
   "id": "9717d01c-c86e-4b60-b3c9-386f42bce88f",
   "metadata": {},
   "outputs": [],
   "source": [
    "lr_accuracy = np.round(accuracy_score(y_test, lr_pred), 10)\n",
    "lr_precision = np.round(precision_score(y_test, lr_pred, average='macro'), 10)\n",
    "lr_recall = np.round(recall_score(y_test, lr_pred, average='macro'), 10)\n",
    "lr_f1 = np.round(f1_score(y_test, lr_pred, average='macro'), 10)"
   ]
  },
  {
   "cell_type": "code",
   "execution_count": 221,
   "id": "3d433268-07c4-45dd-92ba-453c55a7c628",
   "metadata": {},
   "outputs": [
    {
     "name": "stdout",
     "output_type": "stream",
     "text": [
      "Logistic Regression \n",
      "-------------\n",
      "Accuracy: 0.9681818182\n",
      "Precision: 0.9672048055\n",
      "Recall: 0.9657064677\n",
      "F1 Score: 0.9658771363\n"
     ]
    }
   ],
   "source": [
    "print(\"Logistic Regression \\n-------------\")\n",
    "print(f\"Accuracy: {lr_accuracy}\")\n",
    "print(f\"Precision: {lr_precision}\")\n",
    "print(f\"Recall: {lr_recall}\")\n",
    "print(f\"F1 Score: {lr_f1}\")"
   ]
  },
  {
   "cell_type": "markdown",
   "id": "c837a74f-97a5-4e8f-a51e-99b2a33cb221",
   "metadata": {},
   "source": [
    "### 7) Support Vector Machine"
   ]
  },
  {
   "cell_type": "code",
   "execution_count": 222,
   "id": "a8da7dae-85b8-4b4f-be7e-6b6d985f5872",
   "metadata": {},
   "outputs": [],
   "source": [
    "from sklearn.svm import SVC"
   ]
  },
  {
   "cell_type": "code",
   "execution_count": 223,
   "id": "a38c4295-6706-4889-b173-aa4e649c52c9",
   "metadata": {},
   "outputs": [],
   "source": [
    "svm = SVC()\n",
    "svm.fit(X_train, y_train)\n",
    "svm_pred = svm.predict(X_test)"
   ]
  },
  {
   "cell_type": "code",
   "execution_count": 224,
   "id": "6aea6cbb-7a3b-4004-93be-f0867159fe8e",
   "metadata": {
    "collapsed": true,
    "jupyter": {
     "outputs_hidden": true
    },
    "tags": []
   },
   "outputs": [
    {
     "name": "stdout",
     "output_type": "stream",
     "text": [
      "rice jute\n",
      "mothbeans lentil\n",
      "rice jute\n",
      "rice jute\n",
      "papaya rice\n",
      "rice jute\n",
      "maize cotton\n",
      "mothbeans lentil\n",
      "maize cotton\n"
     ]
    }
   ],
   "source": [
    "# See which ones it got wrong\n",
    "for i, j in zip(y_test, svm_pred):\n",
    "    if i != j:\n",
    "        print(i, j)"
   ]
  },
  {
   "cell_type": "code",
   "execution_count": 225,
   "id": "88d340ae-bed8-48ab-9bc2-98d5ca8ff077",
   "metadata": {},
   "outputs": [],
   "source": [
    "svm_accuracy = np.round(accuracy_score(y_test, svm_pred), 10)\n",
    "svm_precision = np.round(precision_score(y_test, svm_pred, average='macro'), 10)\n",
    "svm_recall = np.round(recall_score(y_test, svm_pred, average='macro'), 10)\n",
    "svm_f1 = np.round(f1_score(y_test, svm_pred, average='macro'), 10)"
   ]
  },
  {
   "cell_type": "code",
   "execution_count": 226,
   "id": "13b95ac5-4263-463c-a54a-6f231e52c23a",
   "metadata": {},
   "outputs": [
    {
     "name": "stdout",
     "output_type": "stream",
     "text": [
      "Support Vector Machine \n",
      "-------------\n",
      "Accuracy: 0.9863636364\n",
      "Precision: 0.9872243732\n",
      "Recall: 0.9838075834\n",
      "F1 Score: 0.9849316484\n"
     ]
    }
   ],
   "source": [
    "print(\"Support Vector Machine \\n-------------\")\n",
    "print(f\"Accuracy: {svm_accuracy}\")\n",
    "print(f\"Precision: {svm_precision}\")\n",
    "print(f\"Recall: {svm_recall}\")\n",
    "print(f\"F1 Score: {svm_f1}\")"
   ]
  },
  {
   "cell_type": "markdown",
   "id": "d11f2605-8bbf-4f8b-8658-34afeb02d09a",
   "metadata": {},
   "source": [
    "## Comparing Models"
   ]
  },
  {
   "cell_type": "code",
   "execution_count": 239,
   "id": "0f4d09d0-82b0-422b-b44f-1f0ce93985b9",
   "metadata": {},
   "outputs": [],
   "source": [
    "models_list = ['Decision Tree:', 'Random Forest:', 'SGD:', 'KNN:', 'Naive Bayes:', 'Logistic Regression:', 'SVM:']\n",
    "accuracies = [dt_accuracy, rf_accuracy, sgd_accuracy, knn_accuracy, nb_accuracy, lr_accuracy, svm_accuracy]\n",
    "precisions = [dt_precision, rf_precision, sgd_precision, knn_precision, nb_precision, lr_precision, svm_precision] \n",
    "recalls = [dt_recall, rf_recall, sgd_recall, knn_recall, nb_recall, lr_recall, svm_recall]\n",
    "f1_scores = [dt_f1, rf_f1, sgd_f1, knn_f1, nb_f1, lr_f1, svm_f1]"
   ]
  },
  {
   "cell_type": "code",
   "execution_count": 301,
   "id": "bbb0cbfa-d63f-4422-9c5f-39c64814c6b7",
   "metadata": {},
   "outputs": [
    {
     "data": {
      "image/png": "[encoded data removed]",
      "text/plain": [
       "<Figure size 576x288 with 1 Axes>"
      ]
     },
     "metadata": {},
     "output_type": "display_data"
    }
   ],
   "source": [
    "fig, ax = plt.subplots(figsize=(8, 4))\n",
    "for name, accuracy in zip(models_list, accuracies):\n",
    "    ax.bar(name, accuracy)\n",
    "    ax.set_xticklabels(models_list, rotation=45, ha='right')\n",
    "    ax.set_ylabel('Accuracy', fontsize=14)\n",
    "    ax.set_ylim(0.7, 1)\n",
    "    ax.set_title('Accuracies of Models', fontsize=16)"
   ]
  },
  {
   "cell_type": "code",
   "execution_count": 302,
   "id": "eae6e12a-8c20-4354-8c53-3f9c3d4fb811",
   "metadata": {},
   "outputs": [
    {
     "data": {
      "image/png": "[encoded data removed]",
      "text/plain": [
       "<Figure size 576x288 with 1 Axes>"
      ]
     },
     "metadata": {},
     "output_type": "display_data"
    }
   ],
   "source": [
    "fig, ax = plt.subplots(figsize=(8, 4))\n",
    "for name, precision in zip(models_list, precisions):\n",
    "    ax.bar(name, precision)\n",
    "    ax.set_xticklabels(models_list, rotation=45, ha='right')\n",
    "    ax.set_ylabel('Precision', fontsize=14)\n",
    "    ax.set_ylim(0.7, 1)\n",
    "    ax.set_title('Precisions of Models', fontsize=16)"
   ]
  },
  {
   "cell_type": "code",
   "execution_count": 303,
   "id": "b3b31f37-46cb-415f-b1e8-afc794c37229",
   "metadata": {},
   "outputs": [
    {
     "data": {
      "image/png": "[encoded data removed]",
      "text/plain": [
       "<Figure size 576x288 with 1 Axes>"
      ]
     },
     "metadata": {},
     "output_type": "display_data"
    }
   ],
   "source": [
    "fig, ax = plt.subplots(figsize=(8, 4))\n",
    "for name, recall in zip(models_list, recalls):\n",
    "    ax.bar(name, recall)\n",
    "    ax.set_xticklabels(models_list, rotation=45, ha='right')\n",
    "    ax.set_ylabel('Recall', fontsize=14)\n",
    "    ax.set_ylim(0.7, 1)\n",
    "    ax.set_title('Recalls of Models', fontsize=16)"
   ]
  },
  {
   "cell_type": "code",
   "execution_count": 304,
   "id": "07fff84f-1910-4f28-9f77-a800aa048bf5",
   "metadata": {},
   "outputs": [
    {
     "data": {
      "image/png": "[encoded data removed]",
      "text/plain": [
       "<Figure size 576x288 with 1 Axes>"
      ]
     },
     "metadata": {},
     "output_type": "display_data"
    }
   ],
   "source": [
    "fig, ax = plt.subplots(figsize=(8, 4))\n",
    "for name, f1 in zip(models_list, f1_scores):\n",
    "    ax.bar(name, f1)\n",
    "    ax.set_xticklabels(models_list, rotation=45, ha='right')\n",
    "    ax.set_ylabel('F1 Score', fontsize=14)\n",
    "    ax.set_ylim(0.7, 1)\n",
    "    ax.set_title('F1 Scores of Models', fontsize=16)"
   ]
  },
  {
   "cell_type": "code",
   "execution_count": null,
   "id": "8445112e-3a42-456c-b29e-b7c3a5db89ea",
   "metadata": {},
   "outputs": [],
   "source": []
  },
  {
   "cell_type": "markdown",
   "id": "06d70275-46d9-454b-9496-5acd0ef8eaed",
   "metadata": {},
   "source": [
    "## Recommender / Calculating Similarity Between Plants"
   ]
  },
  {
   "cell_type": "markdown",
   "id": "3fbd0d8f-39fd-43cd-820f-68fa3600eb2a",
   "metadata": {},
   "source": [
    "#### Using Cosine Similarity?"
   ]
  },
  {
   "cell_type": "code",
   "execution_count": 314,
   "id": "39f3660e-d346-4424-8c20-61d36389f943",
   "metadata": {},
   "outputs": [],
   "source": [
    "from sklearn.metrics.pairwise import cosine_similarity"
   ]
  },
  {
   "cell_type": "markdown",
   "id": "ecc6a26a-0add-44d8-a12c-982c7840970c",
   "metadata": {},
   "source": [
    "#### Using predict_proba?"
   ]
  },
  {
   "cell_type": "code",
   "execution_count": 377,
   "id": "ec65198a-0ef9-4738-b60b-979a82a33f27",
   "metadata": {
    "scrolled": true,
    "tags": []
   },
   "outputs": [
    {
     "name": "stdout",
     "output_type": "stream",
     "text": [
      "pigeonpeas pigeonpeas\n",
      "orange orange\n",
      "orange orange\n",
      "apple apple\n",
      "muskmelon muskmelon\n",
      "coconut coconut\n",
      "watermelon watermelon\n",
      "cotton cotton\n",
      "apple apple\n",
      "blackgram blackgram\n",
      "mango mango\n",
      "orange orange\n",
      "pomegranate pomegranate\n",
      "mungbean mungbean\n",
      "coconut coconut\n",
      "jute jute\n",
      "jute jute\n",
      "coconut coconut\n",
      "mungbean mungbean\n",
      "papaya papaya\n",
      "banana banana\n",
      "muskmelon muskmelon\n",
      "pomegranate pomegranate\n",
      "apple apple\n",
      "mothbeans mothbeans\n",
      "pomegranate pomegranate\n",
      "maize maize\n",
      "papaya papaya\n",
      "papaya papaya\n",
      "cotton cotton\n",
      "watermelon watermelon\n",
      "jute jute\n",
      "kidneybeans kidneybeans\n",
      "coffee coffee\n",
      "mungbean mungbean\n",
      "pigeonpeas pigeonpeas\n",
      "banana banana\n",
      "jute jute\n",
      "mothbeans mothbeans\n",
      "kidneybeans kidneybeans\n",
      "watermelon watermelon\n",
      "cotton cotton\n",
      "pigeonpeas pigeonpeas\n",
      "chickpea chickpea\n",
      "grapes grapes\n",
      "muskmelon muskmelon\n",
      "mungbean mungbean\n",
      "muskmelon muskmelon\n",
      "orange orange\n",
      "lentil lentil\n",
      "pomegranate pomegranate\n",
      "pomegranate pomegranate\n",
      "banana banana\n",
      "apple apple\n",
      "lentil lentil\n",
      "kidneybeans kidneybeans\n",
      "grapes grapes\n",
      "watermelon watermelon\n",
      "mango mango\n",
      "blackgram blackgram\n",
      "mango mango\n",
      "papaya papaya\n",
      "orange orange\n",
      "mango mango\n",
      "apple apple\n",
      "mothbeans mothbeans\n",
      "apple apple\n",
      "rice rice\n",
      "maize maize\n",
      "mango mango\n",
      "banana banana\n",
      "mango mango\n",
      "pigeonpeas pigeonpeas\n",
      "pigeonpeas pigeonpeas\n",
      "apple apple\n",
      "jute jute\n",
      "kidneybeans kidneybeans\n",
      "kidneybeans kidneybeans\n",
      "jute jute\n",
      "chickpea chickpea\n",
      "banana banana\n",
      "apple apple\n",
      "kidneybeans kidneybeans\n",
      "jute jute\n",
      "muskmelon muskmelon\n",
      "chickpea chickpea\n",
      "mango mango\n",
      "cotton cotton\n",
      "banana banana\n",
      "rice rice\n",
      "papaya papaya\n",
      "apple apple\n",
      "mothbeans mothbeans\n",
      "jute jute\n",
      "coconut coconut\n",
      "pigeonpeas pigeonpeas\n",
      "muskmelon muskmelon\n",
      "chickpea chickpea\n",
      "papaya papaya\n",
      "mothbeans mothbeans\n",
      "chickpea chickpea\n",
      "rice rice\n",
      "pomegranate pomegranate\n",
      "chickpea chickpea\n",
      "mango mango\n",
      "banana banana\n",
      "grapes grapes\n",
      "chickpea chickpea\n",
      "rice rice\n",
      "cotton cotton\n",
      "orange orange\n",
      "grapes grapes\n",
      "coffee coffee\n",
      "mungbean mungbean\n",
      "muskmelon muskmelon\n",
      "lentil lentil\n",
      "pomegranate pomegranate\n",
      "rice rice\n",
      "apple apple\n",
      "pomegranate pomegranate\n",
      "mango mango\n",
      "papaya papaya\n",
      "coconut coconut\n",
      "orange orange\n",
      "coffee coffee\n",
      "mothbeans mothbeans\n",
      "banana banana\n",
      "kidneybeans kidneybeans\n",
      "coconut coconut\n",
      "kidneybeans kidneybeans\n",
      "watermelon watermelon\n",
      "banana banana\n",
      "coconut coconut\n",
      "coffee coffee\n",
      "coffee coffee\n",
      "orange orange\n",
      "rice rice\n",
      "grapes grapes\n",
      "pomegranate pomegranate\n",
      "kidneybeans kidneybeans\n",
      "mungbean mungbean\n",
      "mungbean mungbean\n",
      "pomegranate pomegranate\n",
      "blackgram blackgram\n",
      "jute jute\n",
      "muskmelon muskmelon\n",
      "banana banana\n",
      "coffee coffee\n",
      "papaya papaya\n",
      "coconut coconut\n",
      "blackgram blackgram\n",
      "cotton cotton\n",
      "orange orange\n",
      "mothbeans mothbeans\n",
      "pigeonpeas pigeonpeas\n",
      "papaya papaya\n",
      "kidneybeans kidneybeans\n",
      "jute jute\n",
      "kidneybeans kidneybeans\n",
      "grapes grapes\n",
      "pomegranate pomegranate\n",
      "pigeonpeas pigeonpeas\n",
      "blackgram blackgram\n",
      "cotton cotton\n",
      "mungbean mungbean\n",
      "pomegranate pomegranate\n",
      "mothbeans mothbeans\n",
      "banana banana\n",
      "muskmelon muskmelon\n",
      "papaya papaya\n",
      "mungbean mungbean\n",
      "muskmelon muskmelon\n",
      "cotton cotton\n",
      "mango mango\n",
      "mango mango\n",
      "banana banana\n",
      "kidneybeans kidneybeans\n",
      "watermelon watermelon\n",
      "rice rice\n",
      "watermelon watermelon\n",
      "mungbean mungbean\n",
      "papaya papaya\n",
      "apple apple\n",
      "mungbean mungbean\n",
      "papaya papaya\n",
      "mungbean mungbean\n",
      "grapes grapes\n",
      "rice rice\n",
      "mungbean mungbean\n",
      "watermelon watermelon\n",
      "blackgram blackgram\n",
      "blackgram blackgram\n",
      "maize maize\n",
      "kidneybeans kidneybeans\n",
      "mango mango\n",
      "chickpea chickpea\n",
      "apple apple\n",
      "mango mango\n",
      "lentil lentil\n",
      "grapes grapes\n",
      "muskmelon muskmelon\n",
      "chickpea chickpea\n",
      "apple apple\n",
      "muskmelon muskmelon\n",
      "apple apple\n",
      "jute jute\n",
      "coconut coconut\n",
      "rice rice\n",
      "jute jute\n",
      "chickpea chickpea\n",
      "muskmelon muskmelon\n",
      "maize maize\n",
      "jute jute\n",
      "lentil lentil\n",
      "rice rice\n",
      "lentil lentil\n",
      "lentil lentil\n",
      "mothbeans mothbeans\n",
      "mothbeans mothbeans\n",
      "papaya papaya\n",
      "papaya papaya\n",
      "watermelon watermelon\n",
      "jute jute\n",
      "banana banana\n",
      "lentil lentil\n",
      "mungbean mungbean\n",
      "grapes grapes\n",
      "mungbean mungbean\n",
      "lentil lentil\n",
      "coffee coffee\n",
      "lentil lentil\n",
      "mango mango\n",
      "mungbean mungbean\n",
      "lentil lentil\n",
      "jute jute\n",
      "papaya papaya\n",
      "maize maize\n",
      "pomegranate pomegranate\n",
      "mango mango\n",
      "chickpea chickpea\n",
      "orange orange\n",
      "coffee coffee\n",
      "lentil lentil\n",
      "jute jute\n",
      "watermelon watermelon\n",
      "jute jute\n",
      "orange orange\n",
      "papaya papaya\n",
      "apple apple\n",
      "blackgram blackgram\n",
      "muskmelon muskmelon\n",
      "cotton cotton\n",
      "apple apple\n",
      "papaya papaya\n",
      "coffee coffee\n",
      "mango mango\n",
      "lentil lentil\n",
      "coffee coffee\n",
      "pomegranate pomegranate\n",
      "pomegranate pomegranate\n",
      "grapes grapes\n",
      "cotton cotton\n",
      "maize maize\n",
      "kidneybeans kidneybeans\n",
      "pigeonpeas pigeonpeas\n",
      "apple apple\n",
      "mango mango\n",
      "kidneybeans kidneybeans\n",
      "kidneybeans kidneybeans\n",
      "kidneybeans kidneybeans\n",
      "rice rice\n",
      "lentil lentil\n",
      "coconut coconut\n",
      "orange orange\n",
      "pigeonpeas pigeonpeas\n",
      "mango mango\n",
      "muskmelon muskmelon\n",
      "apple apple\n",
      "mungbean mungbean\n",
      "mango mango\n",
      "banana banana\n",
      "chickpea chickpea\n",
      "muskmelon muskmelon\n",
      "coffee coffee\n",
      "papaya papaya\n",
      "chickpea chickpea\n",
      "jute jute\n",
      "lentil lentil\n",
      "mango mango\n",
      "papaya papaya\n",
      "blackgram blackgram\n",
      "banana banana\n",
      "orange orange\n",
      "watermelon watermelon\n",
      "banana banana\n",
      "coconut coconut\n",
      "blackgram blackgram\n",
      "maize maize\n",
      "coffee coffee\n",
      "kidneybeans kidneybeans\n",
      "coconut coconut\n",
      "lentil lentil\n",
      "coconut coconut\n",
      "banana banana\n",
      "lentil lentil\n",
      "cotton cotton\n",
      "mungbean mungbean\n",
      "coffee coffee\n",
      "coconut coconut\n",
      "mango mango\n",
      "jute jute\n",
      "chickpea chickpea\n",
      "kidneybeans kidneybeans\n",
      "rice rice\n",
      "papaya papaya\n",
      "lentil lentil\n",
      "maize maize\n",
      "jute jute\n",
      "mungbean mungbean\n",
      "apple apple\n",
      "lentil lentil\n",
      "jute jute\n",
      "grapes grapes\n",
      "pomegranate pomegranate\n",
      "banana banana\n",
      "mango mango\n",
      "pomegranate pomegranate\n",
      "coconut coconut\n",
      "jute jute\n",
      "kidneybeans kidneybeans\n",
      "apple apple\n",
      "banana banana\n",
      "grapes grapes\n",
      "mungbean mungbean\n",
      "mothbeans mothbeans\n",
      "mungbean mungbean\n",
      "grapes grapes\n",
      "pigeonpeas pigeonpeas\n",
      "blackgram blackgram\n",
      "coffee coffee\n",
      "watermelon watermelon\n",
      "orange orange\n",
      "cotton cotton\n",
      "banana banana\n",
      "papaya papaya\n",
      "jute jute\n",
      "papaya papaya\n",
      "pomegranate pomegranate\n",
      "kidneybeans kidneybeans\n",
      "coffee coffee\n",
      "mungbean mungbean\n",
      "pigeonpeas pigeonpeas\n",
      "coconut coconut\n",
      "cotton cotton\n",
      "mango mango\n",
      "grapes grapes\n",
      "rice rice\n",
      "papaya papaya\n",
      "blackgram blackgram\n",
      "grapes grapes\n",
      "banana banana\n",
      "apple apple\n",
      "orange orange\n",
      "pomegranate pomegranate\n",
      "jute jute\n",
      "mothbeans mothbeans\n",
      "apple apple\n",
      "mothbeans mothbeans\n",
      "mango mango\n",
      "rice rice\n",
      "watermelon watermelon\n",
      "maize maize\n",
      "blackgram blackgram\n",
      "jute jute\n",
      "blackgram blackgram\n",
      "apple apple\n",
      "lentil lentil\n",
      "jute jute\n",
      "coconut coconut\n",
      "cotton cotton\n",
      "orange orange\n",
      "grapes grapes\n",
      "kidneybeans kidneybeans\n",
      "rice rice\n",
      "pomegranate pomegranate\n",
      "apple apple\n",
      "kidneybeans kidneybeans\n",
      "blackgram blackgram\n",
      "orange orange\n",
      "kidneybeans kidneybeans\n",
      "rice rice\n",
      "orange orange\n",
      "coffee coffee\n",
      "mango mango\n",
      "papaya papaya\n",
      "watermelon watermelon\n",
      "orange orange\n",
      "muskmelon muskmelon\n",
      "muskmelon muskmelon\n",
      "watermelon watermelon\n",
      "lentil lentil\n",
      "muskmelon muskmelon\n",
      "kidneybeans kidneybeans\n",
      "chickpea chickpea\n",
      "grapes grapes\n",
      "coconut coconut\n",
      "mothbeans mothbeans\n",
      "chickpea chickpea\n",
      "orange orange\n",
      "maize maize\n",
      "apple apple\n",
      "watermelon watermelon\n",
      "mungbean mungbean\n",
      "papaya papaya\n",
      "apple apple\n",
      "coconut coconut\n",
      "cotton cotton\n",
      "mango mango\n",
      "coffee coffee\n",
      "muskmelon muskmelon\n",
      "cotton cotton\n",
      "watermelon watermelon\n",
      "mango mango\n",
      "apple apple\n",
      "mothbeans mothbeans\n",
      "coconut coconut\n",
      "coconut coconut\n",
      "coffee coffee\n",
      "orange orange\n",
      "watermelon watermelon\n",
      "kidneybeans kidneybeans\n",
      "orange orange\n",
      "cotton cotton\n",
      "papaya papaya\n",
      "cotton cotton\n",
      "chickpea chickpea\n",
      "papaya papaya\n",
      "pomegranate pomegranate\n",
      "lentil lentil\n",
      "cotton cotton\n",
      "grapes grapes\n",
      "muskmelon muskmelon\n",
      "mango mango\n",
      "mothbeans mothbeans\n",
      "muskmelon muskmelon\n",
      "apple apple\n",
      "apple apple\n",
      "cotton cotton\n",
      "cotton cotton\n",
      "grapes grapes\n",
      "lentil lentil\n",
      "chickpea chickpea\n",
      "chickpea chickpea\n",
      "lentil lentil\n",
      "mothbeans mothbeans\n",
      "mango mango\n",
      "rice rice\n",
      "grapes grapes\n",
      "blackgram blackgram\n",
      "coffee coffee\n",
      "orange orange\n",
      "apple apple\n",
      "pigeonpeas pigeonpeas\n",
      "cotton cotton\n",
      "mango mango\n",
      "pomegranate pomegranate\n",
      "banana banana\n",
      "maize maize\n",
      "mothbeans mothbeans\n",
      "pomegranate pomegranate\n",
      "pomegranate pomegranate\n",
      "chickpea chickpea\n",
      "mothbeans mothbeans\n",
      "muskmelon muskmelon\n",
      "banana banana\n",
      "maize maize\n",
      "lentil lentil\n",
      "lentil lentil\n",
      "maize maize\n",
      "muskmelon muskmelon\n",
      "pigeonpeas pigeonpeas\n",
      "rice rice\n",
      "cotton cotton\n",
      "coconut coconut\n",
      "pomegranate pomegranate\n",
      "papaya papaya\n",
      "coffee coffee\n",
      "apple apple\n",
      "cotton cotton\n",
      "blackgram blackgram\n",
      "coconut coconut\n",
      "pigeonpeas pigeonpeas\n",
      "mungbean mungbean\n",
      "grapes grapes\n",
      "coconut coconut\n",
      "banana banana\n",
      "coffee coffee\n",
      "rice rice\n",
      "muskmelon muskmelon\n",
      "mungbean mungbean\n",
      "mothbeans mothbeans\n",
      "apple apple\n",
      "pomegranate pomegranate\n",
      "coconut coconut\n",
      "kidneybeans kidneybeans\n",
      "orange orange\n",
      "orange orange\n",
      "banana banana\n",
      "apple apple\n",
      "mungbean mungbean\n",
      "apple apple\n",
      "chickpea chickpea\n",
      "lentil lentil\n",
      "pigeonpeas pigeonpeas\n",
      "mungbean mungbean\n",
      "pigeonpeas pigeonpeas\n",
      "banana banana\n",
      "banana banana\n",
      "coconut coconut\n",
      "cotton cotton\n",
      "pigeonpeas pigeonpeas\n",
      "apple apple\n",
      "chickpea chickpea\n",
      "kidneybeans kidneybeans\n",
      "blackgram blackgram\n",
      "lentil lentil\n",
      "cotton cotton\n",
      "lentil lentil\n",
      "blackgram blackgram\n",
      "banana banana\n",
      "cotton cotton\n",
      "muskmelon muskmelon\n",
      "pomegranate pomegranate\n",
      "maize maize\n",
      "papaya papaya\n",
      "pigeonpeas pigeonpeas\n",
      "watermelon watermelon\n",
      "grapes grapes\n",
      "coffee coffee\n",
      "banana banana\n",
      "kidneybeans kidneybeans\n",
      "coffee coffee\n",
      "pomegranate pomegranate\n",
      "muskmelon muskmelon\n",
      "mungbean mungbean\n",
      "coffee coffee\n",
      "orange orange\n",
      "watermelon watermelon\n",
      "coffee coffee\n",
      "banana banana\n",
      "lentil lentil\n",
      "cotton cotton\n",
      "watermelon watermelon\n",
      "maize maize\n",
      "coffee coffee\n",
      "watermelon watermelon\n",
      "banana banana\n",
      "mungbean mungbean\n",
      "orange orange\n",
      "orange orange\n",
      "maize maize\n",
      "watermelon watermelon\n",
      "banana banana\n",
      "coffee coffee\n",
      "banana banana\n",
      "mothbeans mothbeans\n",
      "grapes grapes\n",
      "lentil lentil\n",
      "mungbean mungbean\n",
      "mungbean mungbean\n",
      "rice rice\n",
      "coconut coconut\n",
      "maize maize\n",
      "mothbeans mothbeans\n",
      "coffee coffee\n",
      "jute jute\n",
      "pomegranate pomegranate\n",
      "chickpea chickpea\n",
      "chickpea chickpea\n",
      "apple apple\n",
      "pigeonpeas pigeonpeas\n",
      "mango mango\n",
      "blackgram blackgram\n",
      "muskmelon muskmelon\n",
      "mothbeans mothbeans\n",
      "kidneybeans kidneybeans\n",
      "pigeonpeas pigeonpeas\n",
      "papaya papaya\n",
      "mungbean mungbean\n",
      "grapes grapes\n",
      "jute jute\n",
      "mothbeans mothbeans\n",
      "watermelon watermelon\n",
      "papaya papaya\n",
      "rice rice\n",
      "mungbean mungbean\n",
      "grapes grapes\n",
      "banana banana\n",
      "jute jute\n",
      "pigeonpeas pigeonpeas\n",
      "chickpea chickpea\n",
      "maize maize\n",
      "coconut coconut\n",
      "apple apple\n",
      "kidneybeans kidneybeans\n",
      "mango mango\n",
      "apple apple\n",
      "watermelon watermelon\n",
      "kidneybeans kidneybeans\n",
      "blackgram blackgram\n",
      "papaya papaya\n",
      "coconut coconut\n",
      "mungbean mungbean\n",
      "pomegranate pomegranate\n",
      "kidneybeans kidneybeans\n",
      "jute jute\n",
      "rice rice\n",
      "muskmelon muskmelon\n",
      "mothbeans mothbeans\n",
      "pigeonpeas pigeonpeas\n",
      "maize maize\n",
      "cotton cotton\n",
      "pigeonpeas pigeonpeas\n",
      "rice rice\n",
      "orange orange\n",
      "apple apple\n",
      "mungbean mungbean\n",
      "mungbean mungbean\n",
      "pigeonpeas pigeonpeas\n",
      "blackgram blackgram\n",
      "pomegranate pomegranate\n",
      "muskmelon muskmelon\n",
      "rice rice\n",
      "kidneybeans kidneybeans\n",
      "pigeonpeas pigeonpeas\n",
      "watermelon watermelon\n",
      "muskmelon muskmelon\n",
      "muskmelon muskmelon\n",
      "muskmelon muskmelon\n",
      "kidneybeans kidneybeans\n",
      "maize maize\n",
      "maize maize\n",
      "jute jute\n",
      "mungbean mungbean\n",
      "mothbeans mothbeans\n",
      "lentil lentil\n",
      "mango mango\n",
      "grapes grapes\n",
      "cotton cotton\n",
      "pigeonpeas pigeonpeas\n",
      "mothbeans mothbeans\n",
      "apple apple\n",
      "pigeonpeas pigeonpeas\n",
      "mungbean mungbean\n",
      "mango mango\n",
      "coffee coffee\n",
      "watermelon watermelon\n",
      "chickpea chickpea\n"
     ]
    }
   ],
   "source": [
    "# See which ones Naive Bayes got right\n",
    "for i, j in zip(y_test, nb_pred):\n",
    "    if i == j:\n",
    "        print(i, j)"
   ]
  },
  {
   "cell_type": "code",
   "execution_count": 385,
   "id": "afe648da-48f7-4fa7-bbb9-7bafecb4a40c",
   "metadata": {},
   "outputs": [
    {
     "data": {
      "text/plain": [
       "array(['rice', 'maize', 'chickpea', 'kidneybeans', 'pigeonpeas',\n",
       "       'mothbeans', 'mungbean', 'blackgram', 'lentil', 'pomegranate',\n",
       "       'banana', 'mango', 'grapes', 'watermelon', 'muskmelon', 'apple',\n",
       "       'orange', 'papaya', 'coconut', 'cotton', 'jute', 'coffee'],\n",
       "      dtype=object)"
      ]
     },
     "execution_count": 385,
     "metadata": {},
     "output_type": "execute_result"
    }
   ],
   "source": [
    "crops['label'].unique()"
   ]
  },
  {
   "cell_type": "code",
   "execution_count": 378,
   "id": "d27f17a3-92b7-4594-a382-b9664490f4b5",
   "metadata": {},
   "outputs": [
    {
     "data": {
      "text/plain": [
       "array([0., 0., 0., 0., 0., 0., 0., 0., 0., 0., 0., 0., 0., 0., 0., 0., 0.,\n",
       "       0., 1., 0., 0., 0.])"
      ]
     },
     "execution_count": 378,
     "metadata": {},
     "output_type": "execute_result"
    }
   ],
   "source": [
    "test = nb.predict_proba(X_test)\n",
    "np.around(test[0], 4)"
   ]
  },
  {
   "cell_type": "code",
   "execution_count": 379,
   "id": "5c1746d6-f777-4d2b-bf5c-deed8c0ca781",
   "metadata": {},
   "outputs": [],
   "source": [
    "crop_labels = crops['label'].unique()"
   ]
  },
  {
   "cell_type": "code",
   "execution_count": 380,
   "id": "a71ecb6a-3904-4e5d-8e91-b3d3796f9def",
   "metadata": {},
   "outputs": [
    {
     "data": {
      "text/plain": [
       "array([18,  9, 13])"
      ]
     },
     "execution_count": 380,
     "metadata": {},
     "output_type": "execute_result"
    }
   ],
   "source": [
    "np.argsort(test[0])[-3:][::-1]"
   ]
  },
  {
   "cell_type": "code",
   "execution_count": 381,
   "id": "39d7ea91-b0f9-4679-add4-7562aad035df",
   "metadata": {},
   "outputs": [
    {
     "name": "stdout",
     "output_type": "stream",
     "text": [
      "['coconut' 'pomegranate' 'watermelon']\n",
      "\n",
      "['orange' 'pigeonpeas' 'mango']\n",
      "\n",
      "['orange' 'coconut' 'mango']\n",
      "\n",
      "['rice' 'blackgram' 'jute']\n",
      "\n",
      "['apple' 'papaya' 'coffee']\n",
      "\n",
      "['pigeonpeas' 'coconut' 'lentil']\n",
      "\n",
      "['coffee' 'papaya' 'apple']\n",
      "\n",
      "['mungbean' 'mango' 'mothbeans']\n",
      "\n",
      "['rice' 'blackgram' 'jute']\n",
      "\n",
      "['chickpea' 'watermelon' 'banana']\n",
      "\n"
     ]
    }
   ],
   "source": [
    "# Get top 3 recommendations for \n",
    "for i in np.argsort(test[:10]):\n",
    "    i = i[-3:][::-1]\n",
    "    print(f\"{crop_labels[i]}\\n\")"
   ]
  },
  {
   "cell_type": "code",
   "execution_count": 389,
   "id": "be4babee-2f72-45f1-b015-d04698672d0f",
   "metadata": {},
   "outputs": [],
   "source": [
    "# Save this as rice_df, can you just take the average of the columns?\n",
    "crop_avgs = crops.groupby('label').mean()"
   ]
  },
  {
   "cell_type": "code",
   "execution_count": 465,
   "id": "f9e7efee-eb5e-4c5f-807f-99216e144474",
   "metadata": {
    "scrolled": true,
    "tags": []
   },
   "outputs": [
    {
     "data": {
      "text/plain": [
       "{'apple': Index(['grapes', 'chickpea', 'mothbeans', 'lentil', 'papaya', 'banana',\n",
       "        'blackgram', 'mango', 'mungbean', 'pomegranate', 'kidneybeans',\n",
       "        'pigeonpeas', 'jute', 'maize', 'watermelon', 'rice', 'coconut',\n",
       "        'coffee', 'orange', 'muskmelon', 'cotton'],\n",
       "       dtype='object', name='label'),\n",
       " 'banana': Index(['maize', 'cotton', 'blackgram', 'papaya', 'mothbeans', 'jute', 'coffee',\n",
       "        'watermelon', 'lentil', 'mango', 'chickpea', 'rice', 'mungbean',\n",
       "        'kidneybeans', 'pigeonpeas', 'muskmelon', 'pomegranate', 'orange',\n",
       "        'coconut', 'apple', 'grapes'],\n",
       "       dtype='object', name='label'),\n",
       " 'blackgram': Index(['mothbeans', 'lentil', 'banana', 'mungbean', 'maize', 'papaya', 'mango',\n",
       "        'jute', 'cotton', 'pigeonpeas', 'kidneybeans', 'pomegranate', 'orange',\n",
       "        'rice', 'coffee', 'chickpea', 'coconut', 'watermelon', 'apple',\n",
       "        'muskmelon', 'grapes'],\n",
       "       dtype='object', name='label'),\n",
       " 'chickpea': Index(['apple', 'grapes', 'banana', 'kidneybeans', 'papaya', 'mango', 'jute',\n",
       "        'blackgram', 'mothbeans', 'pigeonpeas', 'maize', 'rice', 'coffee',\n",
       "        'lentil', 'pomegranate', 'cotton', 'coconut', 'watermelon', 'mungbean',\n",
       "        'orange', 'muskmelon'],\n",
       "       dtype='object', name='label'),\n",
       " 'coconut': Index(['orange', 'pomegranate', 'mango', 'rice', 'jute', 'papaya',\n",
       "        'pigeonpeas', 'coffee', 'kidneybeans', 'maize', 'mothbeans',\n",
       "        'blackgram', 'mungbean', 'banana', 'lentil', 'cotton', 'chickpea',\n",
       "        'watermelon', 'apple', 'muskmelon', 'grapes'],\n",
       "       dtype='object', name='label'),\n",
       " 'coffee': Index(['jute', 'rice', 'maize', 'papaya', 'mango', 'banana', 'cotton',\n",
       "        'coconut', 'pigeonpeas', 'orange', 'pomegranate', 'kidneybeans',\n",
       "        'blackgram', 'watermelon', 'mothbeans', 'chickpea', 'mungbean',\n",
       "        'muskmelon', 'lentil', 'apple', 'grapes'],\n",
       "       dtype='object', name='label'),\n",
       " 'cotton': Index(['maize', 'banana', 'watermelon', 'coffee', 'muskmelon', 'blackgram',\n",
       "        'jute', 'papaya', 'mothbeans', 'rice', 'mungbean', 'mango', 'lentil',\n",
       "        'orange', 'pomegranate', 'pigeonpeas', 'coconut', 'kidneybeans',\n",
       "        'chickpea', 'apple', 'grapes'],\n",
       "       dtype='object', name='label'),\n",
       " 'grapes': Index(['apple', 'chickpea', 'lentil', 'mothbeans', 'banana', 'blackgram',\n",
       "        'papaya', 'mungbean', 'mango', 'pomegranate', 'kidneybeans',\n",
       "        'watermelon', 'maize', 'muskmelon', 'pigeonpeas', 'jute', 'cotton',\n",
       "        'rice', 'coconut', 'coffee', 'orange'],\n",
       "       dtype='object', name='label'),\n",
       " 'jute': Index(['rice', 'coffee', 'papaya', 'mango', 'coconut', 'maize', 'pigeonpeas',\n",
       "        'pomegranate', 'banana', 'orange', 'kidneybeans', 'blackgram', 'cotton',\n",
       "        'mothbeans', 'chickpea', 'mungbean', 'watermelon', 'lentil', 'apple',\n",
       "        'muskmelon', 'grapes'],\n",
       "       dtype='object', name='label'),\n",
       " 'kidneybeans': Index(['pigeonpeas', 'rice', 'papaya', 'mango', 'jute', 'blackgram',\n",
       "        'chickpea', 'mothbeans', 'coffee', 'coconut', 'banana', 'maize',\n",
       "        'lentil', 'pomegranate', 'orange', 'mungbean', 'apple', 'cotton',\n",
       "        'grapes', 'watermelon', 'muskmelon'],\n",
       "       dtype='object', name='label'),\n",
       " 'lentil': Index(['mothbeans', 'blackgram', 'mungbean', 'banana', 'papaya', 'maize',\n",
       "        'mango', 'kidneybeans', 'pomegranate', 'pigeonpeas', 'orange', 'apple',\n",
       "        'jute', 'cotton', 'chickpea', 'grapes', 'coconut', 'rice', 'watermelon',\n",
       "        'coffee', 'muskmelon'],\n",
       "       dtype='object', name='label'),\n",
       " 'maize': Index(['banana', 'cotton', 'blackgram', 'coffee', 'jute', 'papaya',\n",
       "        'mothbeans', 'watermelon', 'rice', 'mango', 'mungbean', 'lentil',\n",
       "        'pomegranate', 'orange', 'pigeonpeas', 'kidneybeans', 'muskmelon',\n",
       "        'coconut', 'chickpea', 'apple', 'grapes'],\n",
       "       dtype='object', name='label'),\n",
       " 'mango': Index(['papaya', 'coconut', 'pomegranate', 'jute', 'rice', 'pigeonpeas',\n",
       "        'orange', 'coffee', 'mothbeans', 'kidneybeans', 'blackgram', 'maize',\n",
       "        'banana', 'mungbean', 'lentil', 'chickpea', 'cotton', 'apple',\n",
       "        'watermelon', 'grapes', 'muskmelon'],\n",
       "       dtype='object', name='label'),\n",
       " 'mothbeans': Index(['blackgram', 'lentil', 'mungbean', 'papaya', 'banana', 'mango', 'maize',\n",
       "        'pomegranate', 'pigeonpeas', 'jute', 'orange', 'kidneybeans', 'cotton',\n",
       "        'coconut', 'rice', 'chickpea', 'coffee', 'apple', 'watermelon',\n",
       "        'grapes', 'muskmelon'],\n",
       "       dtype='object', name='label'),\n",
       " 'mungbean': Index(['mothbeans', 'lentil', 'blackgram', 'papaya', 'pomegranate', 'orange',\n",
       "        'banana', 'maize', 'mango', 'cotton', 'jute', 'watermelon', 'coconut',\n",
       "        'pigeonpeas', 'muskmelon', 'rice', 'kidneybeans', 'apple', 'coffee',\n",
       "        'grapes', 'chickpea'],\n",
       "       dtype='object', name='label'),\n",
       " 'muskmelon': Index(['watermelon', 'cotton', 'banana', 'maize', 'mungbean', 'blackgram',\n",
       "        'mothbeans', 'papaya', 'coffee', 'lentil', 'jute', 'pomegranate',\n",
       "        'orange', 'mango', 'chickpea', 'apple', 'grapes', 'rice', 'coconut',\n",
       "        'pigeonpeas', 'kidneybeans'],\n",
       "       dtype='object', name='label'),\n",
       " 'orange': Index(['pomegranate', 'coconut', 'mango', 'papaya', 'jute', 'rice',\n",
       "        'pigeonpeas', 'mungbean', 'mothbeans', 'coffee', 'maize', 'blackgram',\n",
       "        'banana', 'kidneybeans', 'lentil', 'cotton', 'watermelon', 'muskmelon',\n",
       "        'chickpea', 'apple', 'grapes'],\n",
       "       dtype='object', name='label'),\n",
       " 'papaya': Index(['mango', 'jute', 'pomegranate', 'rice', 'coconut', 'pigeonpeas',\n",
       "        'mothbeans', 'orange', 'blackgram', 'maize', 'banana', 'coffee',\n",
       "        'kidneybeans', 'mungbean', 'lentil', 'cotton', 'chickpea', 'watermelon',\n",
       "        'apple', 'muskmelon', 'grapes'],\n",
       "       dtype='object', name='label'),\n",
       " 'pigeonpeas': Index(['kidneybeans', 'mango', 'rice', 'papaya', 'jute', 'coconut', 'orange',\n",
       "        'coffee', 'pomegranate', 'blackgram', 'mothbeans', 'maize', 'banana',\n",
       "        'chickpea', 'lentil', 'mungbean', 'cotton', 'apple', 'watermelon',\n",
       "        'grapes', 'muskmelon'],\n",
       "       dtype='object', name='label'),\n",
       " 'pomegranate': Index(['orange', 'coconut', 'mango', 'papaya', 'jute', 'rice', 'mothbeans',\n",
       "        'mungbean', 'pigeonpeas', 'coffee', 'blackgram', 'maize', 'banana',\n",
       "        'lentil', 'kidneybeans', 'watermelon', 'cotton', 'chickpea', 'apple',\n",
       "        'muskmelon', 'grapes'],\n",
       "       dtype='object', name='label'),\n",
       " 'rice': Index(['jute', 'coffee', 'coconut', 'mango', 'pigeonpeas', 'papaya', 'orange',\n",
       "        'kidneybeans', 'pomegranate', 'maize', 'banana', 'blackgram',\n",
       "        'mothbeans', 'cotton', 'chickpea', 'mungbean', 'lentil', 'watermelon',\n",
       "        'apple', 'muskmelon', 'grapes'],\n",
       "       dtype='object', name='label'),\n",
       " 'watermelon': Index(['muskmelon', 'cotton', 'maize', 'banana', 'coffee', 'papaya',\n",
       "        'blackgram', 'jute', 'mungbean', 'mothbeans', 'pomegranate', 'mango',\n",
       "        'orange', 'lentil', 'rice', 'chickpea', 'coconut', 'apple', 'grapes',\n",
       "        'pigeonpeas', 'kidneybeans'],\n",
       "       dtype='object', name='label')}"
      ]
     },
     "execution_count": 465,
     "metadata": {},
     "output_type": "execute_result"
    }
   ],
   "source": [
    "similarities_d"
   ]
  },
  {
   "cell_type": "code",
   "execution_count": 472,
   "id": "de47793c-14bb-4097-8c15-83eecab6f18d",
   "metadata": {},
   "outputs": [
    {
     "data": {
      "text/html": [
       "<div>\n",
       "<style scoped>\n",
       "    .dataframe tbody tr th:only-of-type {\n",
       "        vertical-align: middle;\n",
       "    }\n",
       "\n",
       "    .dataframe tbody tr th {\n",
       "        vertical-align: top;\n",
       "    }\n",
       "\n",
       "    .dataframe thead th {\n",
       "        text-align: right;\n",
       "    }\n",
       "</style>\n",
       "<table border=\"1\" class=\"dataframe\">\n",
       "  <thead>\n",
       "    <tr style=\"text-align: right;\">\n",
       "      <th></th>\n",
       "      <th>N</th>\n",
       "      <th>P</th>\n",
       "      <th>K</th>\n",
       "      <th>temperature</th>\n",
       "      <th>humidity</th>\n",
       "      <th>ph</th>\n",
       "      <th>rainfall</th>\n",
       "    </tr>\n",
       "    <tr>\n",
       "      <th>label</th>\n",
       "      <th></th>\n",
       "      <th></th>\n",
       "      <th></th>\n",
       "      <th></th>\n",
       "      <th></th>\n",
       "      <th></th>\n",
       "      <th></th>\n",
       "    </tr>\n",
       "  </thead>\n",
       "  <tbody>\n",
       "    <tr>\n",
       "      <th>apple</th>\n",
       "      <td>20.80</td>\n",
       "      <td>134.22</td>\n",
       "      <td>199.89</td>\n",
       "      <td>22.630942</td>\n",
       "      <td>92.333383</td>\n",
       "      <td>5.929663</td>\n",
       "      <td>112.654779</td>\n",
       "    </tr>\n",
       "    <tr>\n",
       "      <th>grapes</th>\n",
       "      <td>23.18</td>\n",
       "      <td>132.53</td>\n",
       "      <td>200.11</td>\n",
       "      <td>23.849575</td>\n",
       "      <td>81.875228</td>\n",
       "      <td>6.025937</td>\n",
       "      <td>69.611829</td>\n",
       "    </tr>\n",
       "    <tr>\n",
       "      <th>mothbeans</th>\n",
       "      <td>21.44</td>\n",
       "      <td>48.01</td>\n",
       "      <td>20.23</td>\n",
       "      <td>28.194920</td>\n",
       "      <td>53.160418</td>\n",
       "      <td>6.831174</td>\n",
       "      <td>51.198487</td>\n",
       "    </tr>\n",
       "  </tbody>\n",
       "</table>\n",
       "</div>"
      ],
      "text/plain": [
       "               N       P       K  temperature   humidity        ph    rainfall\n",
       "label                                                                         \n",
       "apple      20.80  134.22  199.89    22.630942  92.333383  5.929663  112.654779\n",
       "grapes     23.18  132.53  200.11    23.849575  81.875228  6.025937   69.611829\n",
       "mothbeans  21.44   48.01   20.23    28.194920  53.160418  6.831174   51.198487"
      ]
     },
     "execution_count": 472,
     "metadata": {},
     "output_type": "execute_result"
    }
   ],
   "source": [
    "crop_avgs.loc[['apple', 'grapes', 'mothbeans']]"
   ]
  },
  {
   "cell_type": "code",
   "execution_count": 473,
   "id": "35d53e30-854c-47ff-b3d6-411b129adfdd",
   "metadata": {},
   "outputs": [
    {
     "data": {
      "text/html": [
       "<div>\n",
       "<style scoped>\n",
       "    .dataframe tbody tr th:only-of-type {\n",
       "        vertical-align: middle;\n",
       "    }\n",
       "\n",
       "    .dataframe tbody tr th {\n",
       "        vertical-align: top;\n",
       "    }\n",
       "\n",
       "    .dataframe thead th {\n",
       "        text-align: right;\n",
       "    }\n",
       "</style>\n",
       "<table border=\"1\" class=\"dataframe\">\n",
       "  <thead>\n",
       "    <tr style=\"text-align: right;\">\n",
       "      <th></th>\n",
       "      <th>N</th>\n",
       "      <th>P</th>\n",
       "      <th>K</th>\n",
       "      <th>temperature</th>\n",
       "      <th>humidity</th>\n",
       "      <th>ph</th>\n",
       "      <th>rainfall</th>\n",
       "    </tr>\n",
       "    <tr>\n",
       "      <th>label</th>\n",
       "      <th></th>\n",
       "      <th></th>\n",
       "      <th></th>\n",
       "      <th></th>\n",
       "      <th></th>\n",
       "      <th></th>\n",
       "      <th></th>\n",
       "    </tr>\n",
       "  </thead>\n",
       "  <tbody>\n",
       "    <tr>\n",
       "      <th>apple</th>\n",
       "      <td>20.80</td>\n",
       "      <td>134.22</td>\n",
       "      <td>199.89</td>\n",
       "      <td>22.63</td>\n",
       "      <td>92.33</td>\n",
       "      <td>5.93</td>\n",
       "      <td>112.65</td>\n",
       "    </tr>\n",
       "    <tr>\n",
       "      <th>banana</th>\n",
       "      <td>100.23</td>\n",
       "      <td>82.01</td>\n",
       "      <td>50.05</td>\n",
       "      <td>27.38</td>\n",
       "      <td>80.36</td>\n",
       "      <td>5.98</td>\n",
       "      <td>104.63</td>\n",
       "    </tr>\n",
       "    <tr>\n",
       "      <th>blackgram</th>\n",
       "      <td>40.02</td>\n",
       "      <td>67.47</td>\n",
       "      <td>19.24</td>\n",
       "      <td>29.97</td>\n",
       "      <td>65.12</td>\n",
       "      <td>7.13</td>\n",
       "      <td>67.88</td>\n",
       "    </tr>\n",
       "    <tr>\n",
       "      <th>chickpea</th>\n",
       "      <td>40.09</td>\n",
       "      <td>67.79</td>\n",
       "      <td>79.92</td>\n",
       "      <td>18.87</td>\n",
       "      <td>16.86</td>\n",
       "      <td>7.34</td>\n",
       "      <td>80.06</td>\n",
       "    </tr>\n",
       "    <tr>\n",
       "      <th>coconut</th>\n",
       "      <td>21.98</td>\n",
       "      <td>16.93</td>\n",
       "      <td>30.59</td>\n",
       "      <td>27.41</td>\n",
       "      <td>94.84</td>\n",
       "      <td>5.98</td>\n",
       "      <td>175.69</td>\n",
       "    </tr>\n",
       "    <tr>\n",
       "      <th>coffee</th>\n",
       "      <td>101.20</td>\n",
       "      <td>28.74</td>\n",
       "      <td>29.94</td>\n",
       "      <td>25.54</td>\n",
       "      <td>58.87</td>\n",
       "      <td>6.79</td>\n",
       "      <td>158.07</td>\n",
       "    </tr>\n",
       "    <tr>\n",
       "      <th>cotton</th>\n",
       "      <td>117.77</td>\n",
       "      <td>46.24</td>\n",
       "      <td>19.56</td>\n",
       "      <td>23.99</td>\n",
       "      <td>79.84</td>\n",
       "      <td>6.91</td>\n",
       "      <td>80.40</td>\n",
       "    </tr>\n",
       "    <tr>\n",
       "      <th>grapes</th>\n",
       "      <td>23.18</td>\n",
       "      <td>132.53</td>\n",
       "      <td>200.11</td>\n",
       "      <td>23.85</td>\n",
       "      <td>81.88</td>\n",
       "      <td>6.03</td>\n",
       "      <td>69.61</td>\n",
       "    </tr>\n",
       "    <tr>\n",
       "      <th>jute</th>\n",
       "      <td>78.40</td>\n",
       "      <td>46.86</td>\n",
       "      <td>39.99</td>\n",
       "      <td>24.96</td>\n",
       "      <td>79.64</td>\n",
       "      <td>6.73</td>\n",
       "      <td>174.79</td>\n",
       "    </tr>\n",
       "    <tr>\n",
       "      <th>kidneybeans</th>\n",
       "      <td>20.75</td>\n",
       "      <td>67.54</td>\n",
       "      <td>20.05</td>\n",
       "      <td>20.12</td>\n",
       "      <td>21.61</td>\n",
       "      <td>5.75</td>\n",
       "      <td>105.92</td>\n",
       "    </tr>\n",
       "    <tr>\n",
       "      <th>lentil</th>\n",
       "      <td>18.77</td>\n",
       "      <td>68.36</td>\n",
       "      <td>19.41</td>\n",
       "      <td>24.51</td>\n",
       "      <td>64.80</td>\n",
       "      <td>6.93</td>\n",
       "      <td>45.68</td>\n",
       "    </tr>\n",
       "    <tr>\n",
       "      <th>maize</th>\n",
       "      <td>77.76</td>\n",
       "      <td>48.44</td>\n",
       "      <td>19.79</td>\n",
       "      <td>22.39</td>\n",
       "      <td>65.09</td>\n",
       "      <td>6.25</td>\n",
       "      <td>84.77</td>\n",
       "    </tr>\n",
       "    <tr>\n",
       "      <th>mango</th>\n",
       "      <td>20.07</td>\n",
       "      <td>27.18</td>\n",
       "      <td>29.92</td>\n",
       "      <td>31.21</td>\n",
       "      <td>50.16</td>\n",
       "      <td>5.77</td>\n",
       "      <td>94.70</td>\n",
       "    </tr>\n",
       "    <tr>\n",
       "      <th>mothbeans</th>\n",
       "      <td>21.44</td>\n",
       "      <td>48.01</td>\n",
       "      <td>20.23</td>\n",
       "      <td>28.19</td>\n",
       "      <td>53.16</td>\n",
       "      <td>6.83</td>\n",
       "      <td>51.20</td>\n",
       "    </tr>\n",
       "    <tr>\n",
       "      <th>mungbean</th>\n",
       "      <td>20.99</td>\n",
       "      <td>47.28</td>\n",
       "      <td>19.87</td>\n",
       "      <td>28.53</td>\n",
       "      <td>85.50</td>\n",
       "      <td>6.72</td>\n",
       "      <td>48.40</td>\n",
       "    </tr>\n",
       "    <tr>\n",
       "      <th>muskmelon</th>\n",
       "      <td>100.32</td>\n",
       "      <td>17.72</td>\n",
       "      <td>50.08</td>\n",
       "      <td>28.66</td>\n",
       "      <td>92.34</td>\n",
       "      <td>6.36</td>\n",
       "      <td>24.69</td>\n",
       "    </tr>\n",
       "    <tr>\n",
       "      <th>orange</th>\n",
       "      <td>19.58</td>\n",
       "      <td>16.55</td>\n",
       "      <td>10.01</td>\n",
       "      <td>22.77</td>\n",
       "      <td>92.17</td>\n",
       "      <td>7.02</td>\n",
       "      <td>110.47</td>\n",
       "    </tr>\n",
       "    <tr>\n",
       "      <th>papaya</th>\n",
       "      <td>49.88</td>\n",
       "      <td>59.05</td>\n",
       "      <td>50.04</td>\n",
       "      <td>33.72</td>\n",
       "      <td>92.40</td>\n",
       "      <td>6.74</td>\n",
       "      <td>142.63</td>\n",
       "    </tr>\n",
       "    <tr>\n",
       "      <th>pigeonpeas</th>\n",
       "      <td>20.73</td>\n",
       "      <td>67.73</td>\n",
       "      <td>20.29</td>\n",
       "      <td>27.74</td>\n",
       "      <td>48.06</td>\n",
       "      <td>5.79</td>\n",
       "      <td>149.46</td>\n",
       "    </tr>\n",
       "    <tr>\n",
       "      <th>pomegranate</th>\n",
       "      <td>18.87</td>\n",
       "      <td>18.75</td>\n",
       "      <td>40.21</td>\n",
       "      <td>21.84</td>\n",
       "      <td>90.13</td>\n",
       "      <td>6.43</td>\n",
       "      <td>107.53</td>\n",
       "    </tr>\n",
       "    <tr>\n",
       "      <th>rice</th>\n",
       "      <td>79.89</td>\n",
       "      <td>47.58</td>\n",
       "      <td>39.87</td>\n",
       "      <td>23.69</td>\n",
       "      <td>82.27</td>\n",
       "      <td>6.43</td>\n",
       "      <td>236.18</td>\n",
       "    </tr>\n",
       "    <tr>\n",
       "      <th>watermelon</th>\n",
       "      <td>99.42</td>\n",
       "      <td>17.00</td>\n",
       "      <td>50.22</td>\n",
       "      <td>25.59</td>\n",
       "      <td>85.16</td>\n",
       "      <td>6.50</td>\n",
       "      <td>50.79</td>\n",
       "    </tr>\n",
       "  </tbody>\n",
       "</table>\n",
       "</div>"
      ],
      "text/plain": [
       "                  N       P       K  temperature  humidity    ph  rainfall\n",
       "label                                                                     \n",
       "apple         20.80  134.22  199.89        22.63     92.33  5.93    112.65\n",
       "banana       100.23   82.01   50.05        27.38     80.36  5.98    104.63\n",
       "blackgram     40.02   67.47   19.24        29.97     65.12  7.13     67.88\n",
       "chickpea      40.09   67.79   79.92        18.87     16.86  7.34     80.06\n",
       "coconut       21.98   16.93   30.59        27.41     94.84  5.98    175.69\n",
       "coffee       101.20   28.74   29.94        25.54     58.87  6.79    158.07\n",
       "cotton       117.77   46.24   19.56        23.99     79.84  6.91     80.40\n",
       "grapes        23.18  132.53  200.11        23.85     81.88  6.03     69.61\n",
       "jute          78.40   46.86   39.99        24.96     79.64  6.73    174.79\n",
       "kidneybeans   20.75   67.54   20.05        20.12     21.61  5.75    105.92\n",
       "lentil        18.77   68.36   19.41        24.51     64.80  6.93     45.68\n",
       "maize         77.76   48.44   19.79        22.39     65.09  6.25     84.77\n",
       "mango         20.07   27.18   29.92        31.21     50.16  5.77     94.70\n",
       "mothbeans     21.44   48.01   20.23        28.19     53.16  6.83     51.20\n",
       "mungbean      20.99   47.28   19.87        28.53     85.50  6.72     48.40\n",
       "muskmelon    100.32   17.72   50.08        28.66     92.34  6.36     24.69\n",
       "orange        19.58   16.55   10.01        22.77     92.17  7.02    110.47\n",
       "papaya        49.88   59.05   50.04        33.72     92.40  6.74    142.63\n",
       "pigeonpeas    20.73   67.73   20.29        27.74     48.06  5.79    149.46\n",
       "pomegranate   18.87   18.75   40.21        21.84     90.13  6.43    107.53\n",
       "rice          79.89   47.58   39.87        23.69     82.27  6.43    236.18\n",
       "watermelon    99.42   17.00   50.22        25.59     85.16  6.50     50.79"
      ]
     },
     "execution_count": 473,
     "metadata": {},
     "output_type": "execute_result"
    }
   ],
   "source": [
    "np.round(crop_avgs, 2)"
   ]
  },
  {
   "cell_type": "code",
   "execution_count": 467,
   "id": "37c08a79-ff3b-44b8-ab1d-7898704edeaf",
   "metadata": {},
   "outputs": [
    {
     "data": {
      "text/plain": [
       "array([[ 6, 15, 16,  5,  4, 20, 21, 11,  8, 18,  9, 19, 14, 12,  2,  1,\n",
       "        17, 10, 13,  3,  7,  0],\n",
       "       [ 7,  0,  4, 16, 19, 15, 18,  9, 14, 20,  3, 12, 10, 21,  5,  8,\n",
       "        13, 17,  2,  6, 11,  1],\n",
       "       [ 7, 15,  0, 21,  4,  3,  5, 20, 16, 19,  9, 18,  6,  8, 12, 17,\n",
       "        11, 14,  1, 10, 13,  2],\n",
       "       [15, 16, 14, 21,  4,  6, 19, 10,  5, 20, 11, 18, 13,  2,  8, 12,\n",
       "        17,  9,  1,  7,  0,  3],\n",
       "       [ 7, 15,  0, 21,  3,  6, 10,  1, 14,  2, 13, 11,  9,  5, 18, 17,\n",
       "         8, 20, 12, 19, 16,  4],\n",
       "       [ 7,  0, 10, 15, 14,  3, 13, 21,  2,  9, 19, 16, 18,  4,  6,  1,\n",
       "        12, 17, 11, 20,  8,  5],\n",
       "       [ 7,  0,  3,  9,  4, 18, 19, 16, 10, 12, 14, 20, 13, 17,  8,  2,\n",
       "        15,  5, 21,  1, 11,  6],\n",
       "       [16,  5,  4, 20,  6,  8, 18, 15, 11, 21,  9, 19, 12, 14, 17,  2,\n",
       "         1, 13, 10,  3,  0,  7],\n",
       "       [ 7, 15,  0, 10, 21, 14,  3, 13,  6,  2,  9, 16,  1, 19, 18, 11,\n",
       "         4, 12, 17,  5, 20,  8],\n",
       "       [15, 21,  7,  6,  0, 14, 16, 19, 10, 11,  1,  4,  5, 13,  3,  2,\n",
       "         8, 12, 17, 20, 18,  9],\n",
       "       [15,  5, 21, 20,  4,  7,  3,  6,  8,  0, 16, 18, 19,  9, 12, 11,\n",
       "        17,  1, 14,  2, 13, 10],\n",
       "       [ 7,  0,  3,  4, 15,  9, 18, 16, 19, 10, 14, 12, 20, 21, 13, 17,\n",
       "         8,  5,  2,  6,  1, 11],\n",
       "       [15,  7, 21,  0,  6,  3, 10, 14,  1, 11,  2,  9, 13,  5, 16, 18,\n",
       "        20,  8, 19,  4, 17, 12],\n",
       "       [15,  7, 21,  0,  5,  3, 20,  4,  6,  9, 16,  8, 18, 19, 11, 12,\n",
       "         1, 17, 14, 10,  2, 13],\n",
       "       [ 3,  7,  5,  0,  9, 20, 15, 18,  4, 21,  8,  6, 12, 11,  1, 16,\n",
       "        19, 17,  2, 10, 13, 14],\n",
       "       [ 9, 18,  4, 20,  7,  0,  3, 12, 16, 19,  8, 10,  5, 17, 13,  2,\n",
       "        14, 11,  1,  6, 21, 15],\n",
       "       [ 7,  0,  3, 15, 21,  6, 10,  9,  1,  2, 11,  5, 13, 14, 18, 20,\n",
       "         8, 17, 12,  4, 19, 16],\n",
       "       [ 7, 15,  0, 21,  3,  6, 10, 14,  9,  5,  1, 11,  2, 16, 13, 18,\n",
       "         4, 20, 19,  8, 12, 17],\n",
       "       [15,  7, 21,  0,  6, 14, 10,  3,  1, 11, 13,  2, 19,  5, 16,  4,\n",
       "         8, 17, 20, 12,  9, 18],\n",
       "       [ 7, 15,  0,  3,  6, 21,  9, 10,  1, 11,  2,  5, 18, 14, 13, 20,\n",
       "         8, 17, 12,  4, 16, 19],\n",
       "       [ 7, 15,  0, 21, 10, 14,  3,  6, 13,  2,  1, 11, 19,  9, 16, 17,\n",
       "        18, 12,  4,  5,  8, 20],\n",
       "       [ 9, 18,  7,  0,  4,  3, 20, 10, 16, 12, 19, 13, 14,  8,  2, 17,\n",
       "         5,  1, 11,  6, 15, 21]])"
      ]
     },
     "execution_count": 467,
     "metadata": {},
     "output_type": "execute_result"
    }
   ],
   "source": [
    "index_similarities = cosine_similarity(crop_avgs).argsort(axis=1)\n",
    "index_similarities"
   ]
  },
  {
   "cell_type": "code",
   "execution_count": 463,
   "id": "54d24e5a-e361-4272-abf9-ac278cffc9ee",
   "metadata": {},
   "outputs": [
    {
     "data": {
      "text/plain": [
       "Index(['apple', 'banana', 'blackgram', 'chickpea', 'coconut', 'coffee',\n",
       "       'cotton', 'grapes', 'jute', 'kidneybeans', 'lentil', 'maize', 'mango',\n",
       "       'mothbeans', 'mungbean', 'muskmelon', 'orange', 'papaya', 'pigeonpeas',\n",
       "       'pomegranate', 'rice', 'watermelon'],\n",
       "      dtype='object', name='label')"
      ]
     },
     "execution_count": 463,
     "metadata": {},
     "output_type": "execute_result"
    }
   ],
   "source": [
    "crop_avgs.index"
   ]
  },
  {
   "cell_type": "code",
   "execution_count": 464,
   "id": "301e1795-08a4-4254-a111-d19bd048ff3f",
   "metadata": {},
   "outputs": [
    {
     "data": {
      "text/plain": [
       "{'apple': Index(['grapes', 'chickpea', 'mothbeans', 'lentil', 'papaya', 'banana',\n",
       "        'blackgram', 'mango', 'mungbean', 'pomegranate', 'kidneybeans',\n",
       "        'pigeonpeas', 'jute', 'maize', 'watermelon', 'rice', 'coconut',\n",
       "        'coffee', 'orange', 'muskmelon', 'cotton'],\n",
       "       dtype='object', name='label'),\n",
       " 'banana': Index(['maize', 'cotton', 'blackgram', 'papaya', 'mothbeans', 'jute', 'coffee',\n",
       "        'watermelon', 'lentil', 'mango', 'chickpea', 'rice', 'mungbean',\n",
       "        'kidneybeans', 'pigeonpeas', 'muskmelon', 'pomegranate', 'orange',\n",
       "        'coconut', 'apple', 'grapes'],\n",
       "       dtype='object', name='label'),\n",
       " 'blackgram': Index(['mothbeans', 'lentil', 'banana', 'mungbean', 'maize', 'papaya', 'mango',\n",
       "        'jute', 'cotton', 'pigeonpeas', 'kidneybeans', 'pomegranate', 'orange',\n",
       "        'rice', 'coffee', 'chickpea', 'coconut', 'watermelon', 'apple',\n",
       "        'muskmelon', 'grapes'],\n",
       "       dtype='object', name='label'),\n",
       " 'chickpea': Index(['apple', 'grapes', 'banana', 'kidneybeans', 'papaya', 'mango', 'jute',\n",
       "        'blackgram', 'mothbeans', 'pigeonpeas', 'maize', 'rice', 'coffee',\n",
       "        'lentil', 'pomegranate', 'cotton', 'coconut', 'watermelon', 'mungbean',\n",
       "        'orange', 'muskmelon'],\n",
       "       dtype='object', name='label'),\n",
       " 'coconut': Index(['orange', 'pomegranate', 'mango', 'rice', 'jute', 'papaya',\n",
       "        'pigeonpeas', 'coffee', 'kidneybeans', 'maize', 'mothbeans',\n",
       "        'blackgram', 'mungbean', 'banana', 'lentil', 'cotton', 'chickpea',\n",
       "        'watermelon', 'apple', 'muskmelon', 'grapes'],\n",
       "       dtype='object', name='label'),\n",
       " 'coffee': Index(['jute', 'rice', 'maize', 'papaya', 'mango', 'banana', 'cotton',\n",
       "        'coconut', 'pigeonpeas', 'orange', 'pomegranate', 'kidneybeans',\n",
       "        'blackgram', 'watermelon', 'mothbeans', 'chickpea', 'mungbean',\n",
       "        'muskmelon', 'lentil', 'apple', 'grapes'],\n",
       "       dtype='object', name='label'),\n",
       " 'cotton': Index(['maize', 'banana', 'watermelon', 'coffee', 'muskmelon', 'blackgram',\n",
       "        'jute', 'papaya', 'mothbeans', 'rice', 'mungbean', 'mango', 'lentil',\n",
       "        'orange', 'pomegranate', 'pigeonpeas', 'coconut', 'kidneybeans',\n",
       "        'chickpea', 'apple', 'grapes'],\n",
       "       dtype='object', name='label'),\n",
       " 'grapes': Index(['apple', 'chickpea', 'lentil', 'mothbeans', 'banana', 'blackgram',\n",
       "        'papaya', 'mungbean', 'mango', 'pomegranate', 'kidneybeans',\n",
       "        'watermelon', 'maize', 'muskmelon', 'pigeonpeas', 'jute', 'cotton',\n",
       "        'rice', 'coconut', 'coffee', 'orange'],\n",
       "       dtype='object', name='label'),\n",
       " 'jute': Index(['rice', 'coffee', 'papaya', 'mango', 'coconut', 'maize', 'pigeonpeas',\n",
       "        'pomegranate', 'banana', 'orange', 'kidneybeans', 'blackgram', 'cotton',\n",
       "        'mothbeans', 'chickpea', 'mungbean', 'watermelon', 'lentil', 'apple',\n",
       "        'muskmelon', 'grapes'],\n",
       "       dtype='object', name='label'),\n",
       " 'kidneybeans': Index(['pigeonpeas', 'rice', 'papaya', 'mango', 'jute', 'blackgram',\n",
       "        'chickpea', 'mothbeans', 'coffee', 'coconut', 'banana', 'maize',\n",
       "        'lentil', 'pomegranate', 'orange', 'mungbean', 'apple', 'cotton',\n",
       "        'grapes', 'watermelon', 'muskmelon'],\n",
       "       dtype='object', name='label'),\n",
       " 'lentil': Index(['mothbeans', 'blackgram', 'mungbean', 'banana', 'papaya', 'maize',\n",
       "        'mango', 'kidneybeans', 'pomegranate', 'pigeonpeas', 'orange', 'apple',\n",
       "        'jute', 'cotton', 'chickpea', 'grapes', 'coconut', 'rice', 'watermelon',\n",
       "        'coffee', 'muskmelon'],\n",
       "       dtype='object', name='label'),\n",
       " 'maize': Index(['banana', 'cotton', 'blackgram', 'coffee', 'jute', 'papaya',\n",
       "        'mothbeans', 'watermelon', 'rice', 'mango', 'mungbean', 'lentil',\n",
       "        'pomegranate', 'orange', 'pigeonpeas', 'kidneybeans', 'muskmelon',\n",
       "        'coconut', 'chickpea', 'apple', 'grapes'],\n",
       "       dtype='object', name='label'),\n",
       " 'mango': Index(['papaya', 'coconut', 'pomegranate', 'jute', 'rice', 'pigeonpeas',\n",
       "        'orange', 'coffee', 'mothbeans', 'kidneybeans', 'blackgram', 'maize',\n",
       "        'banana', 'mungbean', 'lentil', 'chickpea', 'cotton', 'apple',\n",
       "        'watermelon', 'grapes', 'muskmelon'],\n",
       "       dtype='object', name='label'),\n",
       " 'mothbeans': Index(['blackgram', 'lentil', 'mungbean', 'papaya', 'banana', 'mango', 'maize',\n",
       "        'pomegranate', 'pigeonpeas', 'jute', 'orange', 'kidneybeans', 'cotton',\n",
       "        'coconut', 'rice', 'chickpea', 'coffee', 'apple', 'watermelon',\n",
       "        'grapes', 'muskmelon'],\n",
       "       dtype='object', name='label'),\n",
       " 'mungbean': Index(['mothbeans', 'lentil', 'blackgram', 'papaya', 'pomegranate', 'orange',\n",
       "        'banana', 'maize', 'mango', 'cotton', 'jute', 'watermelon', 'coconut',\n",
       "        'pigeonpeas', 'muskmelon', 'rice', 'kidneybeans', 'apple', 'coffee',\n",
       "        'grapes', 'chickpea'],\n",
       "       dtype='object', name='label'),\n",
       " 'muskmelon': Index(['watermelon', 'cotton', 'banana', 'maize', 'mungbean', 'blackgram',\n",
       "        'mothbeans', 'papaya', 'coffee', 'lentil', 'jute', 'pomegranate',\n",
       "        'orange', 'mango', 'chickpea', 'apple', 'grapes', 'rice', 'coconut',\n",
       "        'pigeonpeas', 'kidneybeans'],\n",
       "       dtype='object', name='label'),\n",
       " 'orange': Index(['pomegranate', 'coconut', 'mango', 'papaya', 'jute', 'rice',\n",
       "        'pigeonpeas', 'mungbean', 'mothbeans', 'coffee', 'maize', 'blackgram',\n",
       "        'banana', 'kidneybeans', 'lentil', 'cotton', 'watermelon', 'muskmelon',\n",
       "        'chickpea', 'apple', 'grapes'],\n",
       "       dtype='object', name='label'),\n",
       " 'papaya': Index(['mango', 'jute', 'pomegranate', 'rice', 'coconut', 'pigeonpeas',\n",
       "        'mothbeans', 'orange', 'blackgram', 'maize', 'banana', 'coffee',\n",
       "        'kidneybeans', 'mungbean', 'lentil', 'cotton', 'chickpea', 'watermelon',\n",
       "        'apple', 'muskmelon', 'grapes'],\n",
       "       dtype='object', name='label'),\n",
       " 'pigeonpeas': Index(['kidneybeans', 'mango', 'rice', 'papaya', 'jute', 'coconut', 'orange',\n",
       "        'coffee', 'pomegranate', 'blackgram', 'mothbeans', 'maize', 'banana',\n",
       "        'chickpea', 'lentil', 'mungbean', 'cotton', 'apple', 'watermelon',\n",
       "        'grapes', 'muskmelon'],\n",
       "       dtype='object', name='label'),\n",
       " 'pomegranate': Index(['orange', 'coconut', 'mango', 'papaya', 'jute', 'rice', 'mothbeans',\n",
       "        'mungbean', 'pigeonpeas', 'coffee', 'blackgram', 'maize', 'banana',\n",
       "        'lentil', 'kidneybeans', 'watermelon', 'cotton', 'chickpea', 'apple',\n",
       "        'muskmelon', 'grapes'],\n",
       "       dtype='object', name='label'),\n",
       " 'rice': Index(['jute', 'coffee', 'coconut', 'mango', 'pigeonpeas', 'papaya', 'orange',\n",
       "        'kidneybeans', 'pomegranate', 'maize', 'banana', 'blackgram',\n",
       "        'mothbeans', 'cotton', 'chickpea', 'mungbean', 'lentil', 'watermelon',\n",
       "        'apple', 'muskmelon', 'grapes'],\n",
       "       dtype='object', name='label'),\n",
       " 'watermelon': Index(['muskmelon', 'cotton', 'maize', 'banana', 'coffee', 'papaya',\n",
       "        'blackgram', 'jute', 'mungbean', 'mothbeans', 'pomegranate', 'mango',\n",
       "        'orange', 'lentil', 'rice', 'chickpea', 'coconut', 'apple', 'grapes',\n",
       "        'pigeonpeas', 'kidneybeans'],\n",
       "       dtype='object', name='label')}"
      ]
     },
     "execution_count": 464,
     "metadata": {},
     "output_type": "execute_result"
    }
   ],
   "source": [
    "similarities_d"
   ]
  },
  {
   "cell_type": "code",
   "execution_count": 439,
   "id": "d4d80800-0e79-444d-9645-92f069069099",
   "metadata": {},
   "outputs": [],
   "source": [
    "similarities_d = {crop_avgs.index[row[-1]]: crop_avgs.index[row[-2::-1]] for row in index_similarities.tolist()}\n",
    "\n",
    "pkl_filename = 'models/similarities_d.pkl'\n",
    "\n",
    "with open(pkl_filename, 'wb') as file:\n",
    "    pickle.dump(similarities_d, file)"
   ]
  },
  {
   "cell_type": "code",
   "execution_count": 462,
   "id": "dad3fcf8-064e-437e-938c-483943d1b495",
   "metadata": {},
   "outputs": [
    {
     "name": "stdout",
     "output_type": "stream",
     "text": [
      "1st Rec: muskmelon\n",
      "2nd Rec: cotton\n",
      "3rd Rec: maize\n"
     ]
    }
   ],
   "source": [
    "for key, values in similarities_d.items():\n",
    "    if key == 'watermelon':\n",
    "        print(f\"1st Rec: {values[0]}\")\n",
    "        print(f\"2nd Rec: {values[1]}\")\n",
    "        print(f\"3rd Rec: {values[2]}\")\n",
    "    #else:\n",
    "        #print(\"Error - that crop is not currently in the our recommender\")"
   ]
  },
  {
   "cell_type": "code",
   "execution_count": 426,
   "id": "701fcb9c-b7bd-427b-a653-933335ad0baa",
   "metadata": {},
   "outputs": [],
   "source": [
    "crop_similarities = cosine_similarity(crop_avgs).argsort(axis=1)[:,-2]"
   ]
  },
  {
   "cell_type": "code",
   "execution_count": 427,
   "id": "af0ad69d-0a16-4928-b78a-a9acbe8355bd",
   "metadata": {},
   "outputs": [
    {
     "data": {
      "text/plain": [
       "array([ 7, 11, 13,  0, 16,  8, 11,  0, 20, 18, 13,  1, 17,  2, 13, 21, 19,\n",
       "       12,  9, 16,  8, 15])"
      ]
     },
     "execution_count": 427,
     "metadata": {},
     "output_type": "execute_result"
    }
   ],
   "source": [
    "crop_similarities"
   ]
  },
  {
   "cell_type": "code",
   "execution_count": 420,
   "id": "110001ed-7b13-4aa7-98d5-7d8ea60f37b5",
   "metadata": {},
   "outputs": [
    {
     "data": {
      "text/html": [
       "<div>\n",
       "<style scoped>\n",
       "    .dataframe tbody tr th:only-of-type {\n",
       "        vertical-align: middle;\n",
       "    }\n",
       "\n",
       "    .dataframe tbody tr th {\n",
       "        vertical-align: top;\n",
       "    }\n",
       "\n",
       "    .dataframe thead th {\n",
       "        text-align: right;\n",
       "    }\n",
       "</style>\n",
       "<table border=\"1\" class=\"dataframe\">\n",
       "  <thead>\n",
       "    <tr style=\"text-align: right;\">\n",
       "      <th></th>\n",
       "      <th>N</th>\n",
       "      <th>P</th>\n",
       "      <th>K</th>\n",
       "      <th>temperature</th>\n",
       "      <th>humidity</th>\n",
       "      <th>ph</th>\n",
       "      <th>rainfall</th>\n",
       "    </tr>\n",
       "    <tr>\n",
       "      <th>label</th>\n",
       "      <th></th>\n",
       "      <th></th>\n",
       "      <th></th>\n",
       "      <th></th>\n",
       "      <th></th>\n",
       "      <th></th>\n",
       "      <th></th>\n",
       "    </tr>\n",
       "  </thead>\n",
       "  <tbody>\n",
       "    <tr>\n",
       "      <th>grapes</th>\n",
       "      <td>23.18</td>\n",
       "      <td>132.53</td>\n",
       "      <td>200.11</td>\n",
       "      <td>23.849575</td>\n",
       "      <td>81.875228</td>\n",
       "      <td>6.025937</td>\n",
       "      <td>69.611829</td>\n",
       "    </tr>\n",
       "    <tr>\n",
       "      <th>maize</th>\n",
       "      <td>77.76</td>\n",
       "      <td>48.44</td>\n",
       "      <td>19.79</td>\n",
       "      <td>22.389204</td>\n",
       "      <td>65.092249</td>\n",
       "      <td>6.245190</td>\n",
       "      <td>84.766988</td>\n",
       "    </tr>\n",
       "    <tr>\n",
       "      <th>mothbeans</th>\n",
       "      <td>21.44</td>\n",
       "      <td>48.01</td>\n",
       "      <td>20.23</td>\n",
       "      <td>28.194920</td>\n",
       "      <td>53.160418</td>\n",
       "      <td>6.831174</td>\n",
       "      <td>51.198487</td>\n",
       "    </tr>\n",
       "    <tr>\n",
       "      <th>apple</th>\n",
       "      <td>20.80</td>\n",
       "      <td>134.22</td>\n",
       "      <td>199.89</td>\n",
       "      <td>22.630942</td>\n",
       "      <td>92.333383</td>\n",
       "      <td>5.929663</td>\n",
       "      <td>112.654779</td>\n",
       "    </tr>\n",
       "    <tr>\n",
       "      <th>orange</th>\n",
       "      <td>19.58</td>\n",
       "      <td>16.55</td>\n",
       "      <td>10.01</td>\n",
       "      <td>22.765725</td>\n",
       "      <td>92.170209</td>\n",
       "      <td>7.016957</td>\n",
       "      <td>110.474969</td>\n",
       "    </tr>\n",
       "    <tr>\n",
       "      <th>jute</th>\n",
       "      <td>78.40</td>\n",
       "      <td>46.86</td>\n",
       "      <td>39.99</td>\n",
       "      <td>24.958376</td>\n",
       "      <td>79.639864</td>\n",
       "      <td>6.732778</td>\n",
       "      <td>174.792798</td>\n",
       "    </tr>\n",
       "    <tr>\n",
       "      <th>maize</th>\n",
       "      <td>77.76</td>\n",
       "      <td>48.44</td>\n",
       "      <td>19.79</td>\n",
       "      <td>22.389204</td>\n",
       "      <td>65.092249</td>\n",
       "      <td>6.245190</td>\n",
       "      <td>84.766988</td>\n",
       "    </tr>\n",
       "    <tr>\n",
       "      <th>apple</th>\n",
       "      <td>20.80</td>\n",
       "      <td>134.22</td>\n",
       "      <td>199.89</td>\n",
       "      <td>22.630942</td>\n",
       "      <td>92.333383</td>\n",
       "      <td>5.929663</td>\n",
       "      <td>112.654779</td>\n",
       "    </tr>\n",
       "    <tr>\n",
       "      <th>rice</th>\n",
       "      <td>79.89</td>\n",
       "      <td>47.58</td>\n",
       "      <td>39.87</td>\n",
       "      <td>23.689332</td>\n",
       "      <td>82.272822</td>\n",
       "      <td>6.425471</td>\n",
       "      <td>236.181114</td>\n",
       "    </tr>\n",
       "    <tr>\n",
       "      <th>pigeonpeas</th>\n",
       "      <td>20.73</td>\n",
       "      <td>67.73</td>\n",
       "      <td>20.29</td>\n",
       "      <td>27.741762</td>\n",
       "      <td>48.061633</td>\n",
       "      <td>5.794175</td>\n",
       "      <td>149.457564</td>\n",
       "    </tr>\n",
       "    <tr>\n",
       "      <th>mothbeans</th>\n",
       "      <td>21.44</td>\n",
       "      <td>48.01</td>\n",
       "      <td>20.23</td>\n",
       "      <td>28.194920</td>\n",
       "      <td>53.160418</td>\n",
       "      <td>6.831174</td>\n",
       "      <td>51.198487</td>\n",
       "    </tr>\n",
       "    <tr>\n",
       "      <th>banana</th>\n",
       "      <td>100.23</td>\n",
       "      <td>82.01</td>\n",
       "      <td>50.05</td>\n",
       "      <td>27.376798</td>\n",
       "      <td>80.358123</td>\n",
       "      <td>5.983893</td>\n",
       "      <td>104.626980</td>\n",
       "    </tr>\n",
       "    <tr>\n",
       "      <th>papaya</th>\n",
       "      <td>49.88</td>\n",
       "      <td>59.05</td>\n",
       "      <td>50.04</td>\n",
       "      <td>33.723859</td>\n",
       "      <td>92.403388</td>\n",
       "      <td>6.741442</td>\n",
       "      <td>142.627839</td>\n",
       "    </tr>\n",
       "    <tr>\n",
       "      <th>blackgram</th>\n",
       "      <td>40.02</td>\n",
       "      <td>67.47</td>\n",
       "      <td>19.24</td>\n",
       "      <td>29.973340</td>\n",
       "      <td>65.118426</td>\n",
       "      <td>7.133952</td>\n",
       "      <td>67.884151</td>\n",
       "    </tr>\n",
       "    <tr>\n",
       "      <th>mothbeans</th>\n",
       "      <td>21.44</td>\n",
       "      <td>48.01</td>\n",
       "      <td>20.23</td>\n",
       "      <td>28.194920</td>\n",
       "      <td>53.160418</td>\n",
       "      <td>6.831174</td>\n",
       "      <td>51.198487</td>\n",
       "    </tr>\n",
       "    <tr>\n",
       "      <th>watermelon</th>\n",
       "      <td>99.42</td>\n",
       "      <td>17.00</td>\n",
       "      <td>50.22</td>\n",
       "      <td>25.591767</td>\n",
       "      <td>85.160375</td>\n",
       "      <td>6.495778</td>\n",
       "      <td>50.786219</td>\n",
       "    </tr>\n",
       "    <tr>\n",
       "      <th>pomegranate</th>\n",
       "      <td>18.87</td>\n",
       "      <td>18.75</td>\n",
       "      <td>40.21</td>\n",
       "      <td>21.837842</td>\n",
       "      <td>90.125504</td>\n",
       "      <td>6.429172</td>\n",
       "      <td>107.528442</td>\n",
       "    </tr>\n",
       "    <tr>\n",
       "      <th>mango</th>\n",
       "      <td>20.07</td>\n",
       "      <td>27.18</td>\n",
       "      <td>29.92</td>\n",
       "      <td>31.208770</td>\n",
       "      <td>50.156573</td>\n",
       "      <td>5.766373</td>\n",
       "      <td>94.704515</td>\n",
       "    </tr>\n",
       "    <tr>\n",
       "      <th>kidneybeans</th>\n",
       "      <td>20.75</td>\n",
       "      <td>67.54</td>\n",
       "      <td>20.05</td>\n",
       "      <td>20.115085</td>\n",
       "      <td>21.605357</td>\n",
       "      <td>5.749411</td>\n",
       "      <td>105.919778</td>\n",
       "    </tr>\n",
       "    <tr>\n",
       "      <th>orange</th>\n",
       "      <td>19.58</td>\n",
       "      <td>16.55</td>\n",
       "      <td>10.01</td>\n",
       "      <td>22.765725</td>\n",
       "      <td>92.170209</td>\n",
       "      <td>7.016957</td>\n",
       "      <td>110.474969</td>\n",
       "    </tr>\n",
       "    <tr>\n",
       "      <th>jute</th>\n",
       "      <td>78.40</td>\n",
       "      <td>46.86</td>\n",
       "      <td>39.99</td>\n",
       "      <td>24.958376</td>\n",
       "      <td>79.639864</td>\n",
       "      <td>6.732778</td>\n",
       "      <td>174.792798</td>\n",
       "    </tr>\n",
       "    <tr>\n",
       "      <th>muskmelon</th>\n",
       "      <td>100.32</td>\n",
       "      <td>17.72</td>\n",
       "      <td>50.08</td>\n",
       "      <td>28.663066</td>\n",
       "      <td>92.342802</td>\n",
       "      <td>6.358805</td>\n",
       "      <td>24.689952</td>\n",
       "    </tr>\n",
       "  </tbody>\n",
       "</table>\n",
       "</div>"
      ],
      "text/plain": [
       "                  N       P       K  temperature   humidity        ph  \\\n",
       "label                                                                   \n",
       "grapes        23.18  132.53  200.11    23.849575  81.875228  6.025937   \n",
       "maize         77.76   48.44   19.79    22.389204  65.092249  6.245190   \n",
       "mothbeans     21.44   48.01   20.23    28.194920  53.160418  6.831174   \n",
       "apple         20.80  134.22  199.89    22.630942  92.333383  5.929663   \n",
       "orange        19.58   16.55   10.01    22.765725  92.170209  7.016957   \n",
       "jute          78.40   46.86   39.99    24.958376  79.639864  6.732778   \n",
       "maize         77.76   48.44   19.79    22.389204  65.092249  6.245190   \n",
       "apple         20.80  134.22  199.89    22.630942  92.333383  5.929663   \n",
       "rice          79.89   47.58   39.87    23.689332  82.272822  6.425471   \n",
       "pigeonpeas    20.73   67.73   20.29    27.741762  48.061633  5.794175   \n",
       "mothbeans     21.44   48.01   20.23    28.194920  53.160418  6.831174   \n",
       "banana       100.23   82.01   50.05    27.376798  80.358123  5.983893   \n",
       "papaya        49.88   59.05   50.04    33.723859  92.403388  6.741442   \n",
       "blackgram     40.02   67.47   19.24    29.973340  65.118426  7.133952   \n",
       "mothbeans     21.44   48.01   20.23    28.194920  53.160418  6.831174   \n",
       "watermelon    99.42   17.00   50.22    25.591767  85.160375  6.495778   \n",
       "pomegranate   18.87   18.75   40.21    21.837842  90.125504  6.429172   \n",
       "mango         20.07   27.18   29.92    31.208770  50.156573  5.766373   \n",
       "kidneybeans   20.75   67.54   20.05    20.115085  21.605357  5.749411   \n",
       "orange        19.58   16.55   10.01    22.765725  92.170209  7.016957   \n",
       "jute          78.40   46.86   39.99    24.958376  79.639864  6.732778   \n",
       "muskmelon    100.32   17.72   50.08    28.663066  92.342802  6.358805   \n",
       "\n",
       "               rainfall  \n",
       "label                    \n",
       "grapes        69.611829  \n",
       "maize         84.766988  \n",
       "mothbeans     51.198487  \n",
       "apple        112.654779  \n",
       "orange       110.474969  \n",
       "jute         174.792798  \n",
       "maize         84.766988  \n",
       "apple        112.654779  \n",
       "rice         236.181114  \n",
       "pigeonpeas   149.457564  \n",
       "mothbeans     51.198487  \n",
       "banana       104.626980  \n",
       "papaya       142.627839  \n",
       "blackgram     67.884151  \n",
       "mothbeans     51.198487  \n",
       "watermelon    50.786219  \n",
       "pomegranate  107.528442  \n",
       "mango         94.704515  \n",
       "kidneybeans  105.919778  \n",
       "orange       110.474969  \n",
       "jute         174.792798  \n",
       "muskmelon     24.689952  "
      ]
     },
     "execution_count": 420,
     "metadata": {},
     "output_type": "execute_result"
    }
   ],
   "source": [
    "crop_avgs.iloc[crop_similarities]"
   ]
  },
  {
   "cell_type": "code",
   "execution_count": 417,
   "id": "e2d8ad01-4dbe-462b-ac48-36005017fb10",
   "metadata": {},
   "outputs": [],
   "source": [
    "crop_avgs_copy = crop_avgs.copy()"
   ]
  },
  {
   "cell_type": "code",
   "execution_count": 422,
   "id": "58d1030a-2f9c-4bfc-81ca-b63521106627",
   "metadata": {},
   "outputs": [],
   "source": [
    "crop_avgs_copy['most_similar'] = ['grapes', 'maize', 'mothbeans', 'apple', 'orange', 'jute', 'maize', 'apple', 'rice', 'pigeonpeas', 'mothbeans', 'banana', 'papaya', 'blackgram', 'mothbeans', 'watermelon', 'pomegranate', 'mango', 'kidneybeans', 'orange', 'jute', 'muskmelon']"
   ]
  },
  {
   "cell_type": "code",
   "execution_count": 423,
   "id": "55a4ac60-dd32-4685-afcd-b63e5a263869",
   "metadata": {},
   "outputs": [
    {
     "data": {
      "text/html": [
       "<div>\n",
       "<style scoped>\n",
       "    .dataframe tbody tr th:only-of-type {\n",
       "        vertical-align: middle;\n",
       "    }\n",
       "\n",
       "    .dataframe tbody tr th {\n",
       "        vertical-align: top;\n",
       "    }\n",
       "\n",
       "    .dataframe thead th {\n",
       "        text-align: right;\n",
       "    }\n",
       "</style>\n",
       "<table border=\"1\" class=\"dataframe\">\n",
       "  <thead>\n",
       "    <tr style=\"text-align: right;\">\n",
       "      <th></th>\n",
       "      <th>N</th>\n",
       "      <th>P</th>\n",
       "      <th>K</th>\n",
       "      <th>temperature</th>\n",
       "      <th>humidity</th>\n",
       "      <th>ph</th>\n",
       "      <th>rainfall</th>\n",
       "      <th>most_similar</th>\n",
       "    </tr>\n",
       "    <tr>\n",
       "      <th>label</th>\n",
       "      <th></th>\n",
       "      <th></th>\n",
       "      <th></th>\n",
       "      <th></th>\n",
       "      <th></th>\n",
       "      <th></th>\n",
       "      <th></th>\n",
       "      <th></th>\n",
       "    </tr>\n",
       "  </thead>\n",
       "  <tbody>\n",
       "    <tr>\n",
       "      <th>apple</th>\n",
       "      <td>20.80</td>\n",
       "      <td>134.22</td>\n",
       "      <td>199.89</td>\n",
       "      <td>22.630942</td>\n",
       "      <td>92.333383</td>\n",
       "      <td>5.929663</td>\n",
       "      <td>112.654779</td>\n",
       "      <td>grapes</td>\n",
       "    </tr>\n",
       "    <tr>\n",
       "      <th>banana</th>\n",
       "      <td>100.23</td>\n",
       "      <td>82.01</td>\n",
       "      <td>50.05</td>\n",
       "      <td>27.376798</td>\n",
       "      <td>80.358123</td>\n",
       "      <td>5.983893</td>\n",
       "      <td>104.626980</td>\n",
       "      <td>maize</td>\n",
       "    </tr>\n",
       "    <tr>\n",
       "      <th>blackgram</th>\n",
       "      <td>40.02</td>\n",
       "      <td>67.47</td>\n",
       "      <td>19.24</td>\n",
       "      <td>29.973340</td>\n",
       "      <td>65.118426</td>\n",
       "      <td>7.133952</td>\n",
       "      <td>67.884151</td>\n",
       "      <td>mothbeans</td>\n",
       "    </tr>\n",
       "    <tr>\n",
       "      <th>chickpea</th>\n",
       "      <td>40.09</td>\n",
       "      <td>67.79</td>\n",
       "      <td>79.92</td>\n",
       "      <td>18.872847</td>\n",
       "      <td>16.860439</td>\n",
       "      <td>7.336957</td>\n",
       "      <td>80.058977</td>\n",
       "      <td>apple</td>\n",
       "    </tr>\n",
       "    <tr>\n",
       "      <th>coconut</th>\n",
       "      <td>21.98</td>\n",
       "      <td>16.93</td>\n",
       "      <td>30.59</td>\n",
       "      <td>27.409892</td>\n",
       "      <td>94.844272</td>\n",
       "      <td>5.976562</td>\n",
       "      <td>175.686646</td>\n",
       "      <td>orange</td>\n",
       "    </tr>\n",
       "    <tr>\n",
       "      <th>coffee</th>\n",
       "      <td>101.20</td>\n",
       "      <td>28.74</td>\n",
       "      <td>29.94</td>\n",
       "      <td>25.540477</td>\n",
       "      <td>58.869846</td>\n",
       "      <td>6.790308</td>\n",
       "      <td>158.066295</td>\n",
       "      <td>jute</td>\n",
       "    </tr>\n",
       "    <tr>\n",
       "      <th>cotton</th>\n",
       "      <td>117.77</td>\n",
       "      <td>46.24</td>\n",
       "      <td>19.56</td>\n",
       "      <td>23.988958</td>\n",
       "      <td>79.843474</td>\n",
       "      <td>6.912675</td>\n",
       "      <td>80.398043</td>\n",
       "      <td>maize</td>\n",
       "    </tr>\n",
       "    <tr>\n",
       "      <th>grapes</th>\n",
       "      <td>23.18</td>\n",
       "      <td>132.53</td>\n",
       "      <td>200.11</td>\n",
       "      <td>23.849575</td>\n",
       "      <td>81.875228</td>\n",
       "      <td>6.025937</td>\n",
       "      <td>69.611829</td>\n",
       "      <td>apple</td>\n",
       "    </tr>\n",
       "    <tr>\n",
       "      <th>jute</th>\n",
       "      <td>78.40</td>\n",
       "      <td>46.86</td>\n",
       "      <td>39.99</td>\n",
       "      <td>24.958376</td>\n",
       "      <td>79.639864</td>\n",
       "      <td>6.732778</td>\n",
       "      <td>174.792798</td>\n",
       "      <td>rice</td>\n",
       "    </tr>\n",
       "    <tr>\n",
       "      <th>kidneybeans</th>\n",
       "      <td>20.75</td>\n",
       "      <td>67.54</td>\n",
       "      <td>20.05</td>\n",
       "      <td>20.115085</td>\n",
       "      <td>21.605357</td>\n",
       "      <td>5.749411</td>\n",
       "      <td>105.919778</td>\n",
       "      <td>pigeonpeas</td>\n",
       "    </tr>\n",
       "    <tr>\n",
       "      <th>lentil</th>\n",
       "      <td>18.77</td>\n",
       "      <td>68.36</td>\n",
       "      <td>19.41</td>\n",
       "      <td>24.509052</td>\n",
       "      <td>64.804785</td>\n",
       "      <td>6.927932</td>\n",
       "      <td>45.680454</td>\n",
       "      <td>mothbeans</td>\n",
       "    </tr>\n",
       "    <tr>\n",
       "      <th>maize</th>\n",
       "      <td>77.76</td>\n",
       "      <td>48.44</td>\n",
       "      <td>19.79</td>\n",
       "      <td>22.389204</td>\n",
       "      <td>65.092249</td>\n",
       "      <td>6.245190</td>\n",
       "      <td>84.766988</td>\n",
       "      <td>banana</td>\n",
       "    </tr>\n",
       "    <tr>\n",
       "      <th>mango</th>\n",
       "      <td>20.07</td>\n",
       "      <td>27.18</td>\n",
       "      <td>29.92</td>\n",
       "      <td>31.208770</td>\n",
       "      <td>50.156573</td>\n",
       "      <td>5.766373</td>\n",
       "      <td>94.704515</td>\n",
       "      <td>papaya</td>\n",
       "    </tr>\n",
       "    <tr>\n",
       "      <th>mothbeans</th>\n",
       "      <td>21.44</td>\n",
       "      <td>48.01</td>\n",
       "      <td>20.23</td>\n",
       "      <td>28.194920</td>\n",
       "      <td>53.160418</td>\n",
       "      <td>6.831174</td>\n",
       "      <td>51.198487</td>\n",
       "      <td>blackgram</td>\n",
       "    </tr>\n",
       "    <tr>\n",
       "      <th>mungbean</th>\n",
       "      <td>20.99</td>\n",
       "      <td>47.28</td>\n",
       "      <td>19.87</td>\n",
       "      <td>28.525775</td>\n",
       "      <td>85.499975</td>\n",
       "      <td>6.723957</td>\n",
       "      <td>48.403601</td>\n",
       "      <td>mothbeans</td>\n",
       "    </tr>\n",
       "    <tr>\n",
       "      <th>muskmelon</th>\n",
       "      <td>100.32</td>\n",
       "      <td>17.72</td>\n",
       "      <td>50.08</td>\n",
       "      <td>28.663066</td>\n",
       "      <td>92.342802</td>\n",
       "      <td>6.358805</td>\n",
       "      <td>24.689952</td>\n",
       "      <td>watermelon</td>\n",
       "    </tr>\n",
       "    <tr>\n",
       "      <th>orange</th>\n",
       "      <td>19.58</td>\n",
       "      <td>16.55</td>\n",
       "      <td>10.01</td>\n",
       "      <td>22.765725</td>\n",
       "      <td>92.170209</td>\n",
       "      <td>7.016957</td>\n",
       "      <td>110.474969</td>\n",
       "      <td>pomegranate</td>\n",
       "    </tr>\n",
       "    <tr>\n",
       "      <th>papaya</th>\n",
       "      <td>49.88</td>\n",
       "      <td>59.05</td>\n",
       "      <td>50.04</td>\n",
       "      <td>33.723859</td>\n",
       "      <td>92.403388</td>\n",
       "      <td>6.741442</td>\n",
       "      <td>142.627839</td>\n",
       "      <td>mango</td>\n",
       "    </tr>\n",
       "    <tr>\n",
       "      <th>pigeonpeas</th>\n",
       "      <td>20.73</td>\n",
       "      <td>67.73</td>\n",
       "      <td>20.29</td>\n",
       "      <td>27.741762</td>\n",
       "      <td>48.061633</td>\n",
       "      <td>5.794175</td>\n",
       "      <td>149.457564</td>\n",
       "      <td>kidneybeans</td>\n",
       "    </tr>\n",
       "    <tr>\n",
       "      <th>pomegranate</th>\n",
       "      <td>18.87</td>\n",
       "      <td>18.75</td>\n",
       "      <td>40.21</td>\n",
       "      <td>21.837842</td>\n",
       "      <td>90.125504</td>\n",
       "      <td>6.429172</td>\n",
       "      <td>107.528442</td>\n",
       "      <td>orange</td>\n",
       "    </tr>\n",
       "    <tr>\n",
       "      <th>rice</th>\n",
       "      <td>79.89</td>\n",
       "      <td>47.58</td>\n",
       "      <td>39.87</td>\n",
       "      <td>23.689332</td>\n",
       "      <td>82.272822</td>\n",
       "      <td>6.425471</td>\n",
       "      <td>236.181114</td>\n",
       "      <td>jute</td>\n",
       "    </tr>\n",
       "    <tr>\n",
       "      <th>watermelon</th>\n",
       "      <td>99.42</td>\n",
       "      <td>17.00</td>\n",
       "      <td>50.22</td>\n",
       "      <td>25.591767</td>\n",
       "      <td>85.160375</td>\n",
       "      <td>6.495778</td>\n",
       "      <td>50.786219</td>\n",
       "      <td>muskmelon</td>\n",
       "    </tr>\n",
       "  </tbody>\n",
       "</table>\n",
       "</div>"
      ],
      "text/plain": [
       "                  N       P       K  temperature   humidity        ph  \\\n",
       "label                                                                   \n",
       "apple         20.80  134.22  199.89    22.630942  92.333383  5.929663   \n",
       "banana       100.23   82.01   50.05    27.376798  80.358123  5.983893   \n",
       "blackgram     40.02   67.47   19.24    29.973340  65.118426  7.133952   \n",
       "chickpea      40.09   67.79   79.92    18.872847  16.860439  7.336957   \n",
       "coconut       21.98   16.93   30.59    27.409892  94.844272  5.976562   \n",
       "coffee       101.20   28.74   29.94    25.540477  58.869846  6.790308   \n",
       "cotton       117.77   46.24   19.56    23.988958  79.843474  6.912675   \n",
       "grapes        23.18  132.53  200.11    23.849575  81.875228  6.025937   \n",
       "jute          78.40   46.86   39.99    24.958376  79.639864  6.732778   \n",
       "kidneybeans   20.75   67.54   20.05    20.115085  21.605357  5.749411   \n",
       "lentil        18.77   68.36   19.41    24.509052  64.804785  6.927932   \n",
       "maize         77.76   48.44   19.79    22.389204  65.092249  6.245190   \n",
       "mango         20.07   27.18   29.92    31.208770  50.156573  5.766373   \n",
       "mothbeans     21.44   48.01   20.23    28.194920  53.160418  6.831174   \n",
       "mungbean      20.99   47.28   19.87    28.525775  85.499975  6.723957   \n",
       "muskmelon    100.32   17.72   50.08    28.663066  92.342802  6.358805   \n",
       "orange        19.58   16.55   10.01    22.765725  92.170209  7.016957   \n",
       "papaya        49.88   59.05   50.04    33.723859  92.403388  6.741442   \n",
       "pigeonpeas    20.73   67.73   20.29    27.741762  48.061633  5.794175   \n",
       "pomegranate   18.87   18.75   40.21    21.837842  90.125504  6.429172   \n",
       "rice          79.89   47.58   39.87    23.689332  82.272822  6.425471   \n",
       "watermelon    99.42   17.00   50.22    25.591767  85.160375  6.495778   \n",
       "\n",
       "               rainfall most_similar  \n",
       "label                                 \n",
       "apple        112.654779       grapes  \n",
       "banana       104.626980        maize  \n",
       "blackgram     67.884151    mothbeans  \n",
       "chickpea      80.058977        apple  \n",
       "coconut      175.686646       orange  \n",
       "coffee       158.066295         jute  \n",
       "cotton        80.398043        maize  \n",
       "grapes        69.611829        apple  \n",
       "jute         174.792798         rice  \n",
       "kidneybeans  105.919778   pigeonpeas  \n",
       "lentil        45.680454    mothbeans  \n",
       "maize         84.766988       banana  \n",
       "mango         94.704515       papaya  \n",
       "mothbeans     51.198487    blackgram  \n",
       "mungbean      48.403601    mothbeans  \n",
       "muskmelon     24.689952   watermelon  \n",
       "orange       110.474969  pomegranate  \n",
       "papaya       142.627839        mango  \n",
       "pigeonpeas   149.457564  kidneybeans  \n",
       "pomegranate  107.528442       orange  \n",
       "rice         236.181114         jute  \n",
       "watermelon    50.786219    muskmelon  "
      ]
     },
     "execution_count": 423,
     "metadata": {},
     "output_type": "execute_result"
    }
   ],
   "source": [
    "crop_avgs_copy"
   ]
  },
  {
   "cell_type": "markdown",
   "id": "30e80e3e-01b7-493e-b4b2-9595390e9fba",
   "metadata": {},
   "source": [
    "## Testing for Flask App"
   ]
  },
  {
   "cell_type": "code",
   "execution_count": 313,
   "id": "49a62d68-7cf5-43c2-9e7a-cedb6f17b4f6",
   "metadata": {},
   "outputs": [
    {
     "data": {
      "text/html": [
       "<div>\n",
       "<style scoped>\n",
       "    .dataframe tbody tr th:only-of-type {\n",
       "        vertical-align: middle;\n",
       "    }\n",
       "\n",
       "    .dataframe tbody tr th {\n",
       "        vertical-align: top;\n",
       "    }\n",
       "\n",
       "    .dataframe thead th {\n",
       "        text-align: right;\n",
       "    }\n",
       "</style>\n",
       "<table border=\"1\" class=\"dataframe\">\n",
       "  <thead>\n",
       "    <tr style=\"text-align: right;\">\n",
       "      <th></th>\n",
       "      <th>N</th>\n",
       "      <th>P</th>\n",
       "      <th>K</th>\n",
       "      <th>temperature</th>\n",
       "      <th>humidity</th>\n",
       "      <th>ph</th>\n",
       "      <th>rainfall</th>\n",
       "      <th>label</th>\n",
       "    </tr>\n",
       "  </thead>\n",
       "  <tbody>\n",
       "    <tr>\n",
       "      <th>754</th>\n",
       "      <td>22</td>\n",
       "      <td>55</td>\n",
       "      <td>20</td>\n",
       "      <td>33.953091</td>\n",
       "      <td>69.961</td>\n",
       "      <td>7.42353</td>\n",
       "      <td>61.163505</td>\n",
       "      <td>blackgram</td>\n",
       "    </tr>\n",
       "  </tbody>\n",
       "</table>\n",
       "</div>"
      ],
      "text/plain": [
       "      N   P   K  temperature  humidity       ph   rainfall      label\n",
       "754  22  55  20    33.953091    69.961  7.42353  61.163505  blackgram"
      ]
     },
     "execution_count": 313,
     "metadata": {},
     "output_type": "execute_result"
    }
   ],
   "source": [
    "crops[754:755] # for testing user submission"
   ]
  },
  {
   "cell_type": "code",
   "execution_count": 477,
   "id": "0a413145-f93f-4fe5-ac09-785fa88ce073",
   "metadata": {},
   "outputs": [],
   "source": [
    "test = tf.keras.models.load_model(\"flask/saved_models\")"
   ]
  },
  {
   "cell_type": "code",
   "execution_count": null,
   "id": "d8da237e-935b-4216-9489-a337e34c8155",
   "metadata": {},
   "outputs": [],
   "source": [
    "test.predict()"
   ]
  }
 ],
 "metadata": {
  "kernelspec": {
   "display_name": "Python 3",
   "language": "python",
   "name": "python3"
  },
  "language_info": {
   "codemirror_mode": {
    "name": "ipython",
    "version": 3
   },
   "file_extension": ".py",
   "mimetype": "text/x-python",
   "name": "python",
   "nbconvert_exporter": "python",
   "pygments_lexer": "ipython3",
   "version": "3.8.8"
  }
 },
 "nbformat": 4,
 "nbformat_minor": 5
}
